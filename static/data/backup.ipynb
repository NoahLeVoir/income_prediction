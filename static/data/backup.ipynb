{
 "cells": [
  {
   "cell_type": "markdown",
   "metadata": {},
   "source": [
    "# Machine Learning Models"
   ]
  },
  {
   "cell_type": "markdown",
   "metadata": {},
   "source": [
    "The goal of this workbook is to compare different machine learning models on our dataset and compare their results. We are looking to see which models perform best on our dataset and which can most accurately be used to predict new data."
   ]
  },
  {
   "cell_type": "markdown",
   "metadata": {},
   "source": [
    "In this workbook we will load our cleaned csv from our ETL process, then compare the following models:\n",
    "    - Logistic Regression\n",
    "    - K Nearest Neighbor\n",
    "    - Random Forest\n",
    "    - Neural Network\n",
    "    \n",
    "After analyizing each of these models to see which is the best predictor, we will use a <b>Correlation Matrix</b> in order to see which of the input factors from our data has the best predictive power. This is an additional path our group wanted to go down to gain more insight into our data.\n",
    "    \n",
    "` While there are plenty of other machine learning models we could have explored, these are the handful that our team was most interested in experimenting with. In addition, our team selected these models as we believe they have a high likelyhood to be effective considering the nature of our dataset and predictive goals. `"
   ]
  },
  {
   "cell_type": "code",
   "execution_count": 1,
   "metadata": {},
   "outputs": [],
   "source": [
    "# Import General Dependencies for this Workbook\n",
    "import matplotlib.pyplot as plt\n",
    "import pandas as pd\n",
    "import numpy as np\n",
    "import os"
   ]
  },
  {
   "cell_type": "code",
   "execution_count": 2,
   "metadata": {},
   "outputs": [
    {
     "data": {
      "text/html": [
       "<div>\n",
       "<style scoped>\n",
       "    .dataframe tbody tr th:only-of-type {\n",
       "        vertical-align: middle;\n",
       "    }\n",
       "\n",
       "    .dataframe tbody tr th {\n",
       "        vertical-align: top;\n",
       "    }\n",
       "\n",
       "    .dataframe thead th {\n",
       "        text-align: right;\n",
       "    }\n",
       "</style>\n",
       "<table border=\"1\" class=\"dataframe\">\n",
       "  <thead>\n",
       "    <tr style=\"text-align: right;\">\n",
       "      <th></th>\n",
       "      <th>age</th>\n",
       "      <th>workclass</th>\n",
       "      <th>fnlwgt</th>\n",
       "      <th>education</th>\n",
       "      <th>education_number</th>\n",
       "      <th>marital_status</th>\n",
       "      <th>occupation</th>\n",
       "      <th>relationship</th>\n",
       "      <th>race</th>\n",
       "      <th>sex</th>\n",
       "      <th>capital_gain</th>\n",
       "      <th>capital_loss</th>\n",
       "      <th>hours_per_week</th>\n",
       "      <th>native_country</th>\n",
       "      <th>income</th>\n",
       "    </tr>\n",
       "  </thead>\n",
       "  <tbody>\n",
       "    <tr>\n",
       "      <th>0</th>\n",
       "      <td>39</td>\n",
       "      <td>State-gov</td>\n",
       "      <td>77516</td>\n",
       "      <td>Bachelors</td>\n",
       "      <td>13</td>\n",
       "      <td>Never-married</td>\n",
       "      <td>Adm-clerical</td>\n",
       "      <td>Not-in-family</td>\n",
       "      <td>White</td>\n",
       "      <td>Male</td>\n",
       "      <td>2174</td>\n",
       "      <td>0</td>\n",
       "      <td>40</td>\n",
       "      <td>United-States</td>\n",
       "      <td>&lt;=50K</td>\n",
       "    </tr>\n",
       "    <tr>\n",
       "      <th>1</th>\n",
       "      <td>50</td>\n",
       "      <td>Self-emp-not-inc</td>\n",
       "      <td>83311</td>\n",
       "      <td>Bachelors</td>\n",
       "      <td>13</td>\n",
       "      <td>Married-civ-spouse</td>\n",
       "      <td>Exec-managerial</td>\n",
       "      <td>Husband</td>\n",
       "      <td>White</td>\n",
       "      <td>Male</td>\n",
       "      <td>0</td>\n",
       "      <td>0</td>\n",
       "      <td>13</td>\n",
       "      <td>United-States</td>\n",
       "      <td>&lt;=50K</td>\n",
       "    </tr>\n",
       "    <tr>\n",
       "      <th>2</th>\n",
       "      <td>38</td>\n",
       "      <td>Private</td>\n",
       "      <td>215646</td>\n",
       "      <td>HS-grad</td>\n",
       "      <td>9</td>\n",
       "      <td>Divorced</td>\n",
       "      <td>Handlers-cleaners</td>\n",
       "      <td>Not-in-family</td>\n",
       "      <td>White</td>\n",
       "      <td>Male</td>\n",
       "      <td>0</td>\n",
       "      <td>0</td>\n",
       "      <td>40</td>\n",
       "      <td>United-States</td>\n",
       "      <td>&lt;=50K</td>\n",
       "    </tr>\n",
       "    <tr>\n",
       "      <th>3</th>\n",
       "      <td>53</td>\n",
       "      <td>Private</td>\n",
       "      <td>234721</td>\n",
       "      <td>11th</td>\n",
       "      <td>7</td>\n",
       "      <td>Married-civ-spouse</td>\n",
       "      <td>Handlers-cleaners</td>\n",
       "      <td>Husband</td>\n",
       "      <td>Black</td>\n",
       "      <td>Male</td>\n",
       "      <td>0</td>\n",
       "      <td>0</td>\n",
       "      <td>40</td>\n",
       "      <td>United-States</td>\n",
       "      <td>&lt;=50K</td>\n",
       "    </tr>\n",
       "    <tr>\n",
       "      <th>4</th>\n",
       "      <td>28</td>\n",
       "      <td>Private</td>\n",
       "      <td>338409</td>\n",
       "      <td>Bachelors</td>\n",
       "      <td>13</td>\n",
       "      <td>Married-civ-spouse</td>\n",
       "      <td>Prof-specialty</td>\n",
       "      <td>Wife</td>\n",
       "      <td>Black</td>\n",
       "      <td>Female</td>\n",
       "      <td>0</td>\n",
       "      <td>0</td>\n",
       "      <td>40</td>\n",
       "      <td>Cuba</td>\n",
       "      <td>&lt;=50K</td>\n",
       "    </tr>\n",
       "  </tbody>\n",
       "</table>\n",
       "</div>"
      ],
      "text/plain": [
       "   age          workclass  fnlwgt   education  education_number  \\\n",
       "0   39          State-gov   77516   Bachelors                13   \n",
       "1   50   Self-emp-not-inc   83311   Bachelors                13   \n",
       "2   38            Private  215646     HS-grad                 9   \n",
       "3   53            Private  234721        11th                 7   \n",
       "4   28            Private  338409   Bachelors                13   \n",
       "\n",
       "        marital_status          occupation    relationship    race      sex  \\\n",
       "0        Never-married        Adm-clerical   Not-in-family   White     Male   \n",
       "1   Married-civ-spouse     Exec-managerial         Husband   White     Male   \n",
       "2             Divorced   Handlers-cleaners   Not-in-family   White     Male   \n",
       "3   Married-civ-spouse   Handlers-cleaners         Husband   Black     Male   \n",
       "4   Married-civ-spouse      Prof-specialty            Wife   Black   Female   \n",
       "\n",
       "   capital_gain  capital_loss  hours_per_week  native_country  income  \n",
       "0          2174             0              40   United-States   <=50K  \n",
       "1             0             0              13   United-States   <=50K  \n",
       "2             0             0              40   United-States   <=50K  \n",
       "3             0             0              40   United-States   <=50K  \n",
       "4             0             0              40            Cuba   <=50K  "
      ]
     },
     "execution_count": 2,
     "metadata": {},
     "output_type": "execute_result"
    }
   ],
   "source": [
    "# Set file path to the cleaned data csv from data cleanup process\n",
    "file = \"data\"\n",
    "\n",
    "# Read to a df\n",
    "data_df = pd.read_csv(file)\n",
    "data_df.head()"
   ]
  },
  {
   "cell_type": "markdown",
   "metadata": {},
   "source": [
    "# ------------------------------"
   ]
  },
  {
   "cell_type": "markdown",
   "metadata": {},
   "source": [
    "# Start Emerson Code"
   ]
  },
  {
   "cell_type": "markdown",
   "metadata": {},
   "source": [
    "## Logistic Regression\n",
    "\n",
    "Logistic Regression is a statistical method for predicting binary outcomes from data."
   ]
  },
  {
   "cell_type": "code",
   "execution_count": 3,
   "metadata": {},
   "outputs": [
    {
     "ename": "NameError",
     "evalue": "name 'X' is not defined",
     "output_type": "error",
     "traceback": [
      "\u001b[1;31m---------------------------------------------------------------------------\u001b[0m",
      "\u001b[1;31mNameError\u001b[0m                                 Traceback (most recent call last)",
      "\u001b[1;32m<ipython-input-3-fcd1e12aa637>\u001b[0m in \u001b[0;36m<module>\u001b[1;34m\u001b[0m\n\u001b[0;32m      2\u001b[0m \u001b[1;32mfrom\u001b[0m \u001b[0msklearn\u001b[0m\u001b[1;33m.\u001b[0m\u001b[0mmodel_selection\u001b[0m \u001b[1;32mimport\u001b[0m \u001b[0mtrain_test_split\u001b[0m\u001b[1;33m\u001b[0m\u001b[1;33m\u001b[0m\u001b[0m\n\u001b[0;32m      3\u001b[0m \u001b[1;33m\u001b[0m\u001b[0m\n\u001b[1;32m----> 4\u001b[1;33m \u001b[0mX_train\u001b[0m\u001b[1;33m,\u001b[0m \u001b[0mX_test\u001b[0m\u001b[1;33m,\u001b[0m \u001b[0my_train\u001b[0m\u001b[1;33m,\u001b[0m \u001b[0my_test\u001b[0m \u001b[1;33m=\u001b[0m \u001b[0mtrain_test_split\u001b[0m\u001b[1;33m(\u001b[0m\u001b[0mX\u001b[0m\u001b[1;33m,\u001b[0m \u001b[0my\u001b[0m\u001b[1;33m,\u001b[0m \u001b[0mrandom_THING\u001b[0m\u001b[1;33m=\u001b[0m\u001b[1;36m1\u001b[0m\u001b[1;33m)\u001b[0m\u001b[1;33m\u001b[0m\u001b[1;33m\u001b[0m\u001b[0m\n\u001b[0m",
      "\u001b[1;31mNameError\u001b[0m: name 'X' is not defined"
     ]
    }
   ],
   "source": [
    "# Split the data into a training and testing split\n",
    "from sklearn.model_selection import train_test_split\n",
    "\n",
    "X_train, X_test, y_train, y_test = train_test_split(X, y, random_THING=1)"
   ]
  },
  {
   "cell_type": "code",
   "execution_count": null,
   "metadata": {},
   "outputs": [],
   "source": [
    "# Generate the Logistic Regression Model\n",
    "from sklearn.linear_model import LogisticRegression\n",
    "classifier = LogisticRegression()\n",
    "classifier"
   ]
  },
  {
   "cell_type": "code",
   "execution_count": null,
   "metadata": {},
   "outputs": [],
   "source": [
    "# Fit the model\n",
    "classifier.fit(X_train, y_train)"
   ]
  },
  {
   "cell_type": "code",
   "execution_count": null,
   "metadata": {},
   "outputs": [],
   "source": [
    "# Train the model\n",
    "print(f\"Training Data Score: {classifier.score(X_train, y_train)}\")\n",
    "print(f\"Testing Data Score: {classifier.score(X_test, y_test)}\")"
   ]
  },
  {
   "cell_type": "markdown",
   "metadata": {},
   "source": [
    "Predict with new data"
   ]
  },
  {
   "cell_type": "code",
   "execution_count": null,
   "metadata": {},
   "outputs": [],
   "source": [
    "# Predict the class examples\n",
    "predictions = classifier.predict(new_data)\n",
    "print(\"Classes are either 0 (purple) or 1 (yellow)\")\n",
    "print(f\"The new point was classified as: {predictions}\")"
   ]
  },
  {
   "cell_type": "code",
   "execution_count": null,
   "metadata": {},
   "outputs": [],
   "source": [
    "# Predict into a df\n",
    "predictions = classifier.predict(X_test)\n",
    "pd.DataFrame({\"Prediction\": predictions, \"Actual\": y_test})"
   ]
  },
  {
   "cell_type": "markdown",
   "metadata": {},
   "source": [
    "## K Nearest Neighbors (KNN) Model"
   ]
  },
  {
   "cell_type": "code",
   "execution_count": null,
   "metadata": {},
   "outputs": [],
   "source": []
  },
  {
   "cell_type": "code",
   "execution_count": null,
   "metadata": {},
   "outputs": [],
   "source": []
  },
  {
   "cell_type": "markdown",
   "metadata": {},
   "source": [
    "# End Emerson Code"
   ]
  },
  {
   "cell_type": "markdown",
   "metadata": {},
   "source": [
    "# ------------------------------"
   ]
  },
  {
   "cell_type": "markdown",
   "metadata": {},
   "source": [
    "# Start Sofanit Code"
   ]
  },
  {
   "cell_type": "markdown",
   "metadata": {},
   "source": [
    "## Random Forest Model"
   ]
  },
  {
   "cell_type": "code",
<<<<<<< Updated upstream
   "execution_count": 3,
=======
   "execution_count": 1,
>>>>>>> Stashed changes
   "metadata": {},
   "outputs": [],
   "source": [
    "#import the Random Forest Model\n",
    "\n",
    "from sklearn.datasets import load_iris\n",
    "from sklearn.model_selection import train_test_split\n",
    "import pandas as pd\n",
    "import os\n"
   ]
  },
  {
   "cell_type": "code",
<<<<<<< Updated upstream
   "execution_count": 4,
=======
   "execution_count": 2,
>>>>>>> Stashed changes
   "metadata": {},
   "outputs": [
    {
     "data": {
      "text/html": [
       "<div>\n",
       "<style scoped>\n",
       "    .dataframe tbody tr th:only-of-type {\n",
       "        vertical-align: middle;\n",
       "    }\n",
       "\n",
       "    .dataframe tbody tr th {\n",
       "        vertical-align: top;\n",
       "    }\n",
       "\n",
       "    .dataframe thead th {\n",
       "        text-align: right;\n",
       "    }\n",
       "</style>\n",
       "<table border=\"1\" class=\"dataframe\">\n",
       "  <thead>\n",
       "    <tr style=\"text-align: right;\">\n",
       "      <th></th>\n",
       "      <th>age</th>\n",
       "      <th>workclass</th>\n",
       "      <th>fnlwgt</th>\n",
       "      <th>education</th>\n",
       "      <th>education_number</th>\n",
       "      <th>marital_status</th>\n",
       "      <th>occupation</th>\n",
       "      <th>relationship</th>\n",
       "      <th>race</th>\n",
       "      <th>sex</th>\n",
       "      <th>capital_gain</th>\n",
       "      <th>capital_loss</th>\n",
       "      <th>hours_per_week</th>\n",
       "      <th>native_country</th>\n",
       "      <th>income</th>\n",
       "    </tr>\n",
       "  </thead>\n",
       "  <tbody>\n",
       "    <tr>\n",
       "      <th>0</th>\n",
       "      <td>39</td>\n",
       "      <td>State-gov</td>\n",
       "      <td>77516</td>\n",
       "      <td>Bachelors</td>\n",
       "      <td>13</td>\n",
       "      <td>Never-married</td>\n",
       "      <td>Adm-clerical</td>\n",
       "      <td>Not-in-family</td>\n",
       "      <td>White</td>\n",
       "      <td>Male</td>\n",
       "      <td>2174</td>\n",
       "      <td>0</td>\n",
       "      <td>40</td>\n",
       "      <td>United-States</td>\n",
       "      <td>&lt;=50K</td>\n",
       "    </tr>\n",
       "    <tr>\n",
       "      <th>1</th>\n",
       "      <td>50</td>\n",
       "      <td>Self-emp-not-inc</td>\n",
       "      <td>83311</td>\n",
       "      <td>Bachelors</td>\n",
       "      <td>13</td>\n",
       "      <td>Married-civ-spouse</td>\n",
       "      <td>Exec-managerial</td>\n",
       "      <td>Husband</td>\n",
       "      <td>White</td>\n",
       "      <td>Male</td>\n",
       "      <td>0</td>\n",
       "      <td>0</td>\n",
       "      <td>13</td>\n",
       "      <td>United-States</td>\n",
       "      <td>&lt;=50K</td>\n",
       "    </tr>\n",
       "    <tr>\n",
       "      <th>2</th>\n",
       "      <td>38</td>\n",
       "      <td>Private</td>\n",
       "      <td>215646</td>\n",
       "      <td>HS-grad</td>\n",
       "      <td>9</td>\n",
       "      <td>Divorced</td>\n",
       "      <td>Handlers-cleaners</td>\n",
       "      <td>Not-in-family</td>\n",
       "      <td>White</td>\n",
       "      <td>Male</td>\n",
       "      <td>0</td>\n",
       "      <td>0</td>\n",
       "      <td>40</td>\n",
       "      <td>United-States</td>\n",
       "      <td>&lt;=50K</td>\n",
       "    </tr>\n",
       "    <tr>\n",
       "      <th>3</th>\n",
       "      <td>53</td>\n",
       "      <td>Private</td>\n",
       "      <td>234721</td>\n",
       "      <td>11th</td>\n",
       "      <td>7</td>\n",
       "      <td>Married-civ-spouse</td>\n",
       "      <td>Handlers-cleaners</td>\n",
       "      <td>Husband</td>\n",
       "      <td>Black</td>\n",
       "      <td>Male</td>\n",
       "      <td>0</td>\n",
       "      <td>0</td>\n",
       "      <td>40</td>\n",
       "      <td>United-States</td>\n",
       "      <td>&lt;=50K</td>\n",
       "    </tr>\n",
       "    <tr>\n",
       "      <th>4</th>\n",
       "      <td>28</td>\n",
       "      <td>Private</td>\n",
       "      <td>338409</td>\n",
       "      <td>Bachelors</td>\n",
       "      <td>13</td>\n",
       "      <td>Married-civ-spouse</td>\n",
       "      <td>Prof-specialty</td>\n",
       "      <td>Wife</td>\n",
       "      <td>Black</td>\n",
       "      <td>Female</td>\n",
       "      <td>0</td>\n",
       "      <td>0</td>\n",
       "      <td>40</td>\n",
       "      <td>Cuba</td>\n",
       "      <td>&lt;=50K</td>\n",
       "    </tr>\n",
       "  </tbody>\n",
       "</table>\n",
       "</div>"
      ],
      "text/plain": [
       "   age          workclass  fnlwgt   education  education_number  \\\n",
       "0   39          State-gov   77516   Bachelors                13   \n",
       "1   50   Self-emp-not-inc   83311   Bachelors                13   \n",
       "2   38            Private  215646     HS-grad                 9   \n",
       "3   53            Private  234721        11th                 7   \n",
       "4   28            Private  338409   Bachelors                13   \n",
       "\n",
       "        marital_status          occupation    relationship    race      sex  \\\n",
       "0        Never-married        Adm-clerical   Not-in-family   White     Male   \n",
       "1   Married-civ-spouse     Exec-managerial         Husband   White     Male   \n",
       "2             Divorced   Handlers-cleaners   Not-in-family   White     Male   \n",
       "3   Married-civ-spouse   Handlers-cleaners         Husband   Black     Male   \n",
       "4   Married-civ-spouse      Prof-specialty            Wife   Black   Female   \n",
       "\n",
       "   capital_gain  capital_loss  hours_per_week  native_country  income  \n",
       "0          2174             0              40   United-States   <=50K  \n",
       "1             0             0              13   United-States   <=50K  \n",
       "2             0             0              40   United-States   <=50K  \n",
       "3             0             0              40   United-States   <=50K  \n",
       "4             0             0              40            Cuba   <=50K  "
      ]
     },
<<<<<<< Updated upstream
     "execution_count": 4,
=======
     "execution_count": 2,
>>>>>>> Stashed changes
     "metadata": {},
     "output_type": "execute_result"
    }
   ],
   "source": [
    "# Set file path to the cleaned data csv from data cleanup process\n",
    "file = \"data.csv\"\n",
    "\n",
    "# Read to a df\n",
    "data_df = pd.read_csv(file)\n",
    "data_df.head()"
   ]
  },
  {
   "cell_type": "code",
<<<<<<< Updated upstream
   "execution_count": 5,
=======
   "execution_count": 3,
>>>>>>> Stashed changes
   "metadata": {},
   "outputs": [
    {
     "data": {
      "text/plain": [
       "(32561, 15)"
      ]
     },
     "execution_count": 3,
     "metadata": {},
     "output_type": "execute_result"
    }
   ],
   "source": [
    "data_df.shape"
   ]
  },
  {
   "cell_type": "code",
<<<<<<< Updated upstream
   "execution_count": 6,
=======
   "execution_count": 4,
>>>>>>> Stashed changes
   "metadata": {},
   "outputs": [],
   "source": [
    "target = data_df[\"income\"]\n",
    "target_names= [\">=50\",\"<=50\"]"
   ]
  },
  {
   "cell_type": "code",
<<<<<<< Updated upstream
=======
   "execution_count": 5,
   "metadata": {},
   "outputs": [
    {
     "data": {
      "text/plain": [
       "0         <=50K\n",
       "1         <=50K\n",
       "2         <=50K\n",
       "3         <=50K\n",
       "4         <=50K\n",
       "          ...  \n",
       "32556     <=50K\n",
       "32557      >50K\n",
       "32558     <=50K\n",
       "32559     <=50K\n",
       "32560      >50K\n",
       "Name: income, Length: 32561, dtype: object"
      ]
     },
     "execution_count": 5,
     "metadata": {},
     "output_type": "execute_result"
    }
   ],
   "source": [
    "target"
   ]
  },
  {
   "cell_type": "code",
   "execution_count": 106,
   "metadata": {},
   "outputs": [
    {
     "data": {
      "text/plain": [
       "array([0, 0, 0, ..., 0, 0, 1])"
      ]
     },
     "execution_count": 106,
     "metadata": {},
     "output_type": "execute_result"
    }
   ],
   "source": [
    "#labelencode the target\n",
    "labelencoder = LabelEncoder()\n",
    "target_binary = labelencoder.fit_transform(target)\n",
    "target_binary"
   ]
  },
  {
   "cell_type": "code",
>>>>>>> Stashed changes
   "execution_count": 7,
   "metadata": {},
   "outputs": [],
   "source": [
    "data_df = data_df.drop(\"income\", axis=1)"
   ]
  },
  {
   "cell_type": "code",
   "execution_count": 8,
   "metadata": {},
   "outputs": [
    {
     "data": {
      "text/html": [
       "<div>\n",
       "<style scoped>\n",
       "    .dataframe tbody tr th:only-of-type {\n",
       "        vertical-align: middle;\n",
       "    }\n",
       "\n",
       "    .dataframe tbody tr th {\n",
       "        vertical-align: top;\n",
       "    }\n",
       "\n",
       "    .dataframe thead th {\n",
       "        text-align: right;\n",
       "    }\n",
       "</style>\n",
       "<table border=\"1\" class=\"dataframe\">\n",
       "  <thead>\n",
       "    <tr style=\"text-align: right;\">\n",
       "      <th></th>\n",
       "      <th>age</th>\n",
       "      <th>workclass</th>\n",
       "      <th>fnlwgt</th>\n",
       "      <th>education</th>\n",
       "      <th>education_number</th>\n",
       "      <th>marital_status</th>\n",
       "      <th>occupation</th>\n",
       "      <th>relationship</th>\n",
       "      <th>race</th>\n",
       "      <th>sex</th>\n",
       "      <th>capital_gain</th>\n",
       "      <th>capital_loss</th>\n",
       "      <th>hours_per_week</th>\n",
       "      <th>native_country</th>\n",
       "    </tr>\n",
       "  </thead>\n",
       "  <tbody>\n",
       "    <tr>\n",
       "      <th>0</th>\n",
       "      <td>39</td>\n",
       "      <td>State-gov</td>\n",
       "      <td>77516</td>\n",
       "      <td>Bachelors</td>\n",
       "      <td>13</td>\n",
       "      <td>Never-married</td>\n",
       "      <td>Adm-clerical</td>\n",
       "      <td>Not-in-family</td>\n",
       "      <td>White</td>\n",
       "      <td>Male</td>\n",
       "      <td>2174</td>\n",
       "      <td>0</td>\n",
       "      <td>40</td>\n",
       "      <td>United-States</td>\n",
       "    </tr>\n",
       "    <tr>\n",
       "      <th>1</th>\n",
       "      <td>50</td>\n",
       "      <td>Self-emp-not-inc</td>\n",
       "      <td>83311</td>\n",
       "      <td>Bachelors</td>\n",
       "      <td>13</td>\n",
       "      <td>Married-civ-spouse</td>\n",
       "      <td>Exec-managerial</td>\n",
       "      <td>Husband</td>\n",
       "      <td>White</td>\n",
       "      <td>Male</td>\n",
       "      <td>0</td>\n",
       "      <td>0</td>\n",
       "      <td>13</td>\n",
       "      <td>United-States</td>\n",
       "    </tr>\n",
       "    <tr>\n",
       "      <th>2</th>\n",
       "      <td>38</td>\n",
       "      <td>Private</td>\n",
       "      <td>215646</td>\n",
       "      <td>HS-grad</td>\n",
       "      <td>9</td>\n",
       "      <td>Divorced</td>\n",
       "      <td>Handlers-cleaners</td>\n",
       "      <td>Not-in-family</td>\n",
       "      <td>White</td>\n",
       "      <td>Male</td>\n",
       "      <td>0</td>\n",
       "      <td>0</td>\n",
       "      <td>40</td>\n",
       "      <td>United-States</td>\n",
       "    </tr>\n",
       "    <tr>\n",
       "      <th>3</th>\n",
       "      <td>53</td>\n",
       "      <td>Private</td>\n",
       "      <td>234721</td>\n",
       "      <td>11th</td>\n",
       "      <td>7</td>\n",
       "      <td>Married-civ-spouse</td>\n",
       "      <td>Handlers-cleaners</td>\n",
       "      <td>Husband</td>\n",
       "      <td>Black</td>\n",
       "      <td>Male</td>\n",
       "      <td>0</td>\n",
       "      <td>0</td>\n",
       "      <td>40</td>\n",
       "      <td>United-States</td>\n",
       "    </tr>\n",
       "    <tr>\n",
       "      <th>4</th>\n",
       "      <td>28</td>\n",
       "      <td>Private</td>\n",
       "      <td>338409</td>\n",
       "      <td>Bachelors</td>\n",
       "      <td>13</td>\n",
       "      <td>Married-civ-spouse</td>\n",
       "      <td>Prof-specialty</td>\n",
       "      <td>Wife</td>\n",
       "      <td>Black</td>\n",
       "      <td>Female</td>\n",
       "      <td>0</td>\n",
       "      <td>0</td>\n",
       "      <td>40</td>\n",
       "      <td>Cuba</td>\n",
       "    </tr>\n",
       "  </tbody>\n",
       "</table>\n",
       "</div>"
      ],
      "text/plain": [
       "   age          workclass  fnlwgt   education  education_number  \\\n",
       "0   39          State-gov   77516   Bachelors                13   \n",
       "1   50   Self-emp-not-inc   83311   Bachelors                13   \n",
       "2   38            Private  215646     HS-grad                 9   \n",
       "3   53            Private  234721        11th                 7   \n",
       "4   28            Private  338409   Bachelors                13   \n",
       "\n",
       "        marital_status          occupation    relationship    race      sex  \\\n",
       "0        Never-married        Adm-clerical   Not-in-family   White     Male   \n",
       "1   Married-civ-spouse     Exec-managerial         Husband   White     Male   \n",
       "2             Divorced   Handlers-cleaners   Not-in-family   White     Male   \n",
       "3   Married-civ-spouse   Handlers-cleaners         Husband   Black     Male   \n",
       "4   Married-civ-spouse      Prof-specialty            Wife   Black   Female   \n",
       "\n",
       "   capital_gain  capital_loss  hours_per_week  native_country  \n",
       "0          2174             0              40   United-States  \n",
       "1             0             0              13   United-States  \n",
       "2             0             0              40   United-States  \n",
       "3             0             0              40   United-States  \n",
       "4             0             0              40            Cuba  "
      ]
     },
     "execution_count": 8,
     "metadata": {},
     "output_type": "execute_result"
    }
   ],
   "source": [
    "feature_names = data_df.columns\n",
    "data_df.head()"
   ]
  },
  {
   "cell_type": "code",
   "execution_count": 9,
   "metadata": {},
   "outputs": [
    {
     "data": {
<<<<<<< Updated upstream
=======
      "text/plain": [
       "(32561, 14)"
      ]
     },
     "execution_count": 9,
     "metadata": {},
     "output_type": "execute_result"
    }
   ],
   "source": [
    "data_df.shape\n"
   ]
  },
  {
   "cell_type": "code",
   "execution_count": 10,
   "metadata": {},
   "outputs": [
    {
     "data": {
>>>>>>> Stashed changes
      "text/html": [
       "<div>\n",
       "<style scoped>\n",
       "    .dataframe tbody tr th:only-of-type {\n",
       "        vertical-align: middle;\n",
       "    }\n",
       "\n",
       "    .dataframe tbody tr th {\n",
       "        vertical-align: top;\n",
       "    }\n",
       "\n",
       "    .dataframe thead th {\n",
       "        text-align: right;\n",
       "    }\n",
       "</style>\n",
       "<table border=\"1\" class=\"dataframe\">\n",
       "  <thead>\n",
       "    <tr style=\"text-align: right;\">\n",
       "      <th></th>\n",
       "      <th>age</th>\n",
       "      <th>fnlwgt</th>\n",
       "      <th>education_number</th>\n",
       "      <th>capital_gain</th>\n",
       "      <th>capital_loss</th>\n",
       "      <th>hours_per_week</th>\n",
       "      <th>workclass_ ?</th>\n",
       "      <th>workclass_ Federal-gov</th>\n",
       "      <th>workclass_ Local-gov</th>\n",
       "      <th>workclass_ Never-worked</th>\n",
       "      <th>...</th>\n",
       "      <th>native_country_ Portugal</th>\n",
       "      <th>native_country_ Puerto-Rico</th>\n",
       "      <th>native_country_ Scotland</th>\n",
       "      <th>native_country_ South</th>\n",
       "      <th>native_country_ Taiwan</th>\n",
       "      <th>native_country_ Thailand</th>\n",
       "      <th>native_country_ Trinadad&amp;Tobago</th>\n",
       "      <th>native_country_ United-States</th>\n",
       "      <th>native_country_ Vietnam</th>\n",
       "      <th>native_country_ Yugoslavia</th>\n",
       "    </tr>\n",
       "  </thead>\n",
       "  <tbody>\n",
       "    <tr>\n",
       "      <th>0</th>\n",
       "      <td>39</td>\n",
       "      <td>77516</td>\n",
       "      <td>13</td>\n",
       "      <td>2174</td>\n",
       "      <td>0</td>\n",
       "      <td>40</td>\n",
       "      <td>0</td>\n",
       "      <td>0</td>\n",
       "      <td>0</td>\n",
       "      <td>0</td>\n",
       "      <td>...</td>\n",
       "      <td>0</td>\n",
       "      <td>0</td>\n",
       "      <td>0</td>\n",
       "      <td>0</td>\n",
       "      <td>0</td>\n",
       "      <td>0</td>\n",
       "      <td>0</td>\n",
       "      <td>1</td>\n",
       "      <td>0</td>\n",
       "      <td>0</td>\n",
       "    </tr>\n",
       "    <tr>\n",
       "      <th>1</th>\n",
       "      <td>50</td>\n",
       "      <td>83311</td>\n",
       "      <td>13</td>\n",
       "      <td>0</td>\n",
       "      <td>0</td>\n",
       "      <td>13</td>\n",
       "      <td>0</td>\n",
       "      <td>0</td>\n",
       "      <td>0</td>\n",
       "      <td>0</td>\n",
       "      <td>...</td>\n",
       "      <td>0</td>\n",
       "      <td>0</td>\n",
       "      <td>0</td>\n",
       "      <td>0</td>\n",
       "      <td>0</td>\n",
       "      <td>0</td>\n",
       "      <td>0</td>\n",
       "      <td>1</td>\n",
       "      <td>0</td>\n",
       "      <td>0</td>\n",
       "    </tr>\n",
       "    <tr>\n",
       "      <th>2</th>\n",
       "      <td>38</td>\n",
       "      <td>215646</td>\n",
       "      <td>9</td>\n",
       "      <td>0</td>\n",
       "      <td>0</td>\n",
       "      <td>40</td>\n",
       "      <td>0</td>\n",
       "      <td>0</td>\n",
       "      <td>0</td>\n",
       "      <td>0</td>\n",
       "      <td>...</td>\n",
       "      <td>0</td>\n",
       "      <td>0</td>\n",
       "      <td>0</td>\n",
       "      <td>0</td>\n",
       "      <td>0</td>\n",
       "      <td>0</td>\n",
       "      <td>0</td>\n",
       "      <td>1</td>\n",
       "      <td>0</td>\n",
       "      <td>0</td>\n",
       "    </tr>\n",
       "    <tr>\n",
       "      <th>3</th>\n",
       "      <td>53</td>\n",
       "      <td>234721</td>\n",
       "      <td>7</td>\n",
       "      <td>0</td>\n",
       "      <td>0</td>\n",
       "      <td>40</td>\n",
       "      <td>0</td>\n",
       "      <td>0</td>\n",
       "      <td>0</td>\n",
       "      <td>0</td>\n",
       "      <td>...</td>\n",
       "      <td>0</td>\n",
       "      <td>0</td>\n",
       "      <td>0</td>\n",
       "      <td>0</td>\n",
       "      <td>0</td>\n",
       "      <td>0</td>\n",
       "      <td>0</td>\n",
       "      <td>1</td>\n",
       "      <td>0</td>\n",
       "      <td>0</td>\n",
       "    </tr>\n",
       "    <tr>\n",
       "      <th>4</th>\n",
       "      <td>28</td>\n",
       "      <td>338409</td>\n",
       "      <td>13</td>\n",
       "      <td>0</td>\n",
       "      <td>0</td>\n",
       "      <td>40</td>\n",
       "      <td>0</td>\n",
       "      <td>0</td>\n",
       "      <td>0</td>\n",
       "      <td>0</td>\n",
       "      <td>...</td>\n",
       "      <td>0</td>\n",
       "      <td>0</td>\n",
       "      <td>0</td>\n",
       "      <td>0</td>\n",
       "      <td>0</td>\n",
       "      <td>0</td>\n",
       "      <td>0</td>\n",
       "      <td>0</td>\n",
       "      <td>0</td>\n",
       "      <td>0</td>\n",
       "    </tr>\n",
       "  </tbody>\n",
       "</table>\n",
       "<p>5 rows × 108 columns</p>\n",
       "</div>"
      ],
      "text/plain": [
       "   age  fnlwgt  education_number  capital_gain  capital_loss  hours_per_week  \\\n",
       "0   39   77516                13          2174             0              40   \n",
       "1   50   83311                13             0             0              13   \n",
       "2   38  215646                 9             0             0              40   \n",
       "3   53  234721                 7             0             0              40   \n",
       "4   28  338409                13             0             0              40   \n",
       "\n",
       "   workclass_ ?  workclass_ Federal-gov  workclass_ Local-gov  \\\n",
       "0             0                       0                     0   \n",
       "1             0                       0                     0   \n",
       "2             0                       0                     0   \n",
       "3             0                       0                     0   \n",
       "4             0                       0                     0   \n",
       "\n",
       "   workclass_ Never-worked  ...  native_country_ Portugal  \\\n",
       "0                        0  ...                         0   \n",
       "1                        0  ...                         0   \n",
       "2                        0  ...                         0   \n",
       "3                        0  ...                         0   \n",
       "4                        0  ...                         0   \n",
       "\n",
       "   native_country_ Puerto-Rico  native_country_ Scotland  \\\n",
       "0                            0                         0   \n",
       "1                            0                         0   \n",
       "2                            0                         0   \n",
       "3                            0                         0   \n",
       "4                            0                         0   \n",
       "\n",
       "   native_country_ South  native_country_ Taiwan  native_country_ Thailand  \\\n",
       "0                      0                       0                         0   \n",
       "1                      0                       0                         0   \n",
       "2                      0                       0                         0   \n",
       "3                      0                       0                         0   \n",
       "4                      0                       0                         0   \n",
       "\n",
       "   native_country_ Trinadad&Tobago  native_country_ United-States  \\\n",
       "0                                0                              1   \n",
       "1                                0                              1   \n",
       "2                                0                              1   \n",
       "3                                0                              1   \n",
       "4                                0                              0   \n",
       "\n",
       "   native_country_ Vietnam  native_country_ Yugoslavia  \n",
       "0                        0                           0  \n",
       "1                        0                           0  \n",
       "2                        0                           0  \n",
       "3                        0                           0  \n",
       "4                        0                           0  \n",
       "\n",
       "[5 rows x 108 columns]"
      ]
     },
<<<<<<< Updated upstream
     "execution_count": 9,
=======
     "execution_count": 10,
>>>>>>> Stashed changes
     "metadata": {},
     "output_type": "execute_result"
    }
   ],
   "source": [
    "data_binary_encoded = pd.get_dummies(data_df)\n",
    "data_binary_encoded.head()"
   ]
  },
  {
   "cell_type": "code",
<<<<<<< Updated upstream
   "execution_count": 10,
=======
   "execution_count": 11,
>>>>>>> Stashed changes
   "metadata": {},
   "outputs": [
    {
     "data": {
      "text/plain": [
<<<<<<< Updated upstream
       "' <=50K'"
      ]
     },
     "execution_count": 10,
=======
       "['age',\n",
       " 'fnlwgt',\n",
       " 'education_number',\n",
       " 'capital_gain',\n",
       " 'capital_loss',\n",
       " 'hours_per_week',\n",
       " 'workclass_ ?',\n",
       " 'workclass_ Federal-gov',\n",
       " 'workclass_ Local-gov',\n",
       " 'workclass_ Never-worked',\n",
       " 'workclass_ Private',\n",
       " 'workclass_ Self-emp-inc',\n",
       " 'workclass_ Self-emp-not-inc',\n",
       " 'workclass_ State-gov',\n",
       " 'workclass_ Without-pay',\n",
       " 'education_ 10th',\n",
       " 'education_ 11th',\n",
       " 'education_ 12th',\n",
       " 'education_ 1st-4th',\n",
       " 'education_ 5th-6th',\n",
       " 'education_ 7th-8th',\n",
       " 'education_ 9th',\n",
       " 'education_ Assoc-acdm',\n",
       " 'education_ Assoc-voc',\n",
       " 'education_ Bachelors',\n",
       " 'education_ Doctorate',\n",
       " 'education_ HS-grad',\n",
       " 'education_ Masters',\n",
       " 'education_ Preschool',\n",
       " 'education_ Prof-school',\n",
       " 'education_ Some-college',\n",
       " 'marital_status_ Divorced',\n",
       " 'marital_status_ Married-AF-spouse',\n",
       " 'marital_status_ Married-civ-spouse',\n",
       " 'marital_status_ Married-spouse-absent',\n",
       " 'marital_status_ Never-married',\n",
       " 'marital_status_ Separated',\n",
       " 'marital_status_ Widowed',\n",
       " 'occupation_ ?',\n",
       " 'occupation_ Adm-clerical',\n",
       " 'occupation_ Armed-Forces',\n",
       " 'occupation_ Craft-repair',\n",
       " 'occupation_ Exec-managerial',\n",
       " 'occupation_ Farming-fishing',\n",
       " 'occupation_ Handlers-cleaners',\n",
       " 'occupation_ Machine-op-inspct',\n",
       " 'occupation_ Other-service',\n",
       " 'occupation_ Priv-house-serv',\n",
       " 'occupation_ Prof-specialty',\n",
       " 'occupation_ Protective-serv',\n",
       " 'occupation_ Sales',\n",
       " 'occupation_ Tech-support',\n",
       " 'occupation_ Transport-moving',\n",
       " 'relationship_ Husband',\n",
       " 'relationship_ Not-in-family',\n",
       " 'relationship_ Other-relative',\n",
       " 'relationship_ Own-child',\n",
       " 'relationship_ Unmarried',\n",
       " 'relationship_ Wife',\n",
       " 'race_ Amer-Indian-Eskimo',\n",
       " 'race_ Asian-Pac-Islander',\n",
       " 'race_ Black',\n",
       " 'race_ Other',\n",
       " 'race_ White',\n",
       " 'sex_ Female',\n",
       " 'sex_ Male',\n",
       " 'native_country_ ?',\n",
       " 'native_country_ Cambodia',\n",
       " 'native_country_ Canada',\n",
       " 'native_country_ China',\n",
       " 'native_country_ Columbia',\n",
       " 'native_country_ Cuba',\n",
       " 'native_country_ Dominican-Republic',\n",
       " 'native_country_ Ecuador',\n",
       " 'native_country_ El-Salvador',\n",
       " 'native_country_ England',\n",
       " 'native_country_ France',\n",
       " 'native_country_ Germany',\n",
       " 'native_country_ Greece',\n",
       " 'native_country_ Guatemala',\n",
       " 'native_country_ Haiti',\n",
       " 'native_country_ Holand-Netherlands',\n",
       " 'native_country_ Honduras',\n",
       " 'native_country_ Hong',\n",
       " 'native_country_ Hungary',\n",
       " 'native_country_ India',\n",
       " 'native_country_ Iran',\n",
       " 'native_country_ Ireland',\n",
       " 'native_country_ Italy',\n",
       " 'native_country_ Jamaica',\n",
       " 'native_country_ Japan',\n",
       " 'native_country_ Laos',\n",
       " 'native_country_ Mexico',\n",
       " 'native_country_ Nicaragua',\n",
       " 'native_country_ Outlying-US(Guam-USVI-etc)',\n",
       " 'native_country_ Peru',\n",
       " 'native_country_ Philippines',\n",
       " 'native_country_ Poland',\n",
       " 'native_country_ Portugal',\n",
       " 'native_country_ Puerto-Rico',\n",
       " 'native_country_ Scotland',\n",
       " 'native_country_ South',\n",
       " 'native_country_ Taiwan',\n",
       " 'native_country_ Thailand',\n",
       " 'native_country_ Trinadad&Tobago',\n",
       " 'native_country_ United-States',\n",
       " 'native_country_ Vietnam',\n",
       " 'native_country_ Yugoslavia']"
      ]
     },
     "execution_count": 11,
>>>>>>> Stashed changes
     "metadata": {},
     "output_type": "execute_result"
    }
   ],
   "source": [
    "#import train_test_Split\n",
    "from sklearn.model_selection import train_test_split\n",
    "X_train, X_test, y_train, y_test = train_test_split(data_binary_encoded, target, random_state=42)\n",
    "X_train.columns.to_list()\n"
   ]
  },
  {
   "cell_type": "code",
<<<<<<< Updated upstream
   "execution_count": 11,
=======
   "execution_count": 12,
>>>>>>> Stashed changes
   "metadata": {
    "scrolled": true
   },
   "outputs": [
    {
     "data": {
      "text/plain": [
<<<<<<< Updated upstream
       "0.859231052696229"
      ]
     },
     "execution_count": 11,
=======
       "0.8571428571428571"
      ]
     },
     "execution_count": 12,
>>>>>>> Stashed changes
     "metadata": {},
     "output_type": "execute_result"
    }
   ],
   "source": [
    "#import the RandomForestClassifier\n",
    "from sklearn.ensemble import RandomForestClassifier\n",
    "rf = RandomForestClassifier(n_estimators=200)\n",
    "rf = rf.fit(X_train, y_train)\n",
    "rf.score(X_test, y_test)\n"
   ]
  },
  {
   "cell_type": "markdown",
   "metadata": {},
   "source": [
    "           As we can see the RandomForestClassifier has about 86% of accuracy. This is a very good indicator of a good model. On the next steps, we will prioritize the features based on the importance in order to investigate which feature was the greatest indicator of income that is \n",
    "           above 50,000 dollars or below 50,000 dollars. "
   ]
  },
  {
   "cell_type": "code",
   "execution_count": 13,
   "metadata": {},
   "outputs": [],
   "source": [
    "featuresPriority = sorted(zip(rf.feature_importances_, feature_names), reverse=True)"
   ]
  },
  {
   "cell_type": "code",
   "execution_count": 14,
   "metadata": {},
   "outputs": [
    {
     "data": {
      "text/html": [
       "<div>\n",
       "<style scoped>\n",
       "    .dataframe tbody tr th:only-of-type {\n",
       "        vertical-align: middle;\n",
       "    }\n",
       "\n",
       "    .dataframe tbody tr th {\n",
       "        vertical-align: top;\n",
       "    }\n",
       "\n",
       "    .dataframe thead th {\n",
       "        text-align: right;\n",
       "    }\n",
       "</style>\n",
       "<table border=\"1\" class=\"dataframe\">\n",
       "  <thead>\n",
       "    <tr style=\"text-align: right;\">\n",
       "      <th></th>\n",
       "      <th>0</th>\n",
       "      <th>1</th>\n",
       "    </tr>\n",
       "  </thead>\n",
       "  <tbody>\n",
       "    <tr>\n",
       "      <th>0</th>\n",
       "      <td>0.156756</td>\n",
       "      <td>workclass</td>\n",
       "    </tr>\n",
       "    <tr>\n",
       "      <th>1</th>\n",
       "      <td>0.146403</td>\n",
       "      <td>age</td>\n",
       "    </tr>\n",
       "    <tr>\n",
       "      <th>2</th>\n",
       "      <td>0.093401</td>\n",
       "      <td>education</td>\n",
       "    </tr>\n",
       "    <tr>\n",
       "      <th>3</th>\n",
       "      <td>0.082719</td>\n",
       "      <td>marital_status</td>\n",
       "    </tr>\n",
       "    <tr>\n",
       "      <th>4</th>\n",
       "      <td>0.065416</td>\n",
       "      <td>fnlwgt</td>\n",
       "    </tr>\n",
       "    <tr>\n",
       "      <th>5</th>\n",
       "      <td>0.029550</td>\n",
       "      <td>education_number</td>\n",
       "    </tr>\n",
       "    <tr>\n",
       "      <th>6</th>\n",
       "      <td>0.010831</td>\n",
       "      <td>capital_gain</td>\n",
       "    </tr>\n",
       "    <tr>\n",
       "      <th>7</th>\n",
       "      <td>0.008343</td>\n",
       "      <td>hours_per_week</td>\n",
       "    </tr>\n",
       "    <tr>\n",
       "      <th>8</th>\n",
       "      <td>0.006691</td>\n",
       "      <td>capital_loss</td>\n",
       "    </tr>\n",
       "    <tr>\n",
       "      <th>9</th>\n",
       "      <td>0.005997</td>\n",
       "      <td>race</td>\n",
       "    </tr>\n",
       "    <tr>\n",
       "      <th>10</th>\n",
       "      <td>0.005824</td>\n",
       "      <td>relationship</td>\n",
       "    </tr>\n",
       "    <tr>\n",
       "      <th>11</th>\n",
       "      <td>0.004522</td>\n",
       "      <td>native_country</td>\n",
       "    </tr>\n",
       "    <tr>\n",
       "      <th>12</th>\n",
       "      <td>0.002044</td>\n",
       "      <td>occupation</td>\n",
       "    </tr>\n",
       "    <tr>\n",
       "      <th>13</th>\n",
       "      <td>0.000004</td>\n",
       "      <td>sex</td>\n",
       "    </tr>\n",
       "  </tbody>\n",
       "</table>\n",
       "</div>"
      ],
      "text/plain": [
       "           0                 1\n",
       "0   0.156756         workclass\n",
       "1   0.146403               age\n",
       "2   0.093401         education\n",
       "3   0.082719    marital_status\n",
       "4   0.065416            fnlwgt\n",
       "5   0.029550  education_number\n",
       "6   0.010831      capital_gain\n",
       "7   0.008343    hours_per_week\n",
       "8   0.006691      capital_loss\n",
       "9   0.005997              race\n",
       "10  0.005824      relationship\n",
       "11  0.004522    native_country\n",
       "12  0.002044        occupation\n",
       "13  0.000004               sex"
      ]
     },
     "execution_count": 14,
     "metadata": {},
     "output_type": "execute_result"
    }
   ],
   "source": [
    "\n",
    "featuresPriority_df= pd.DataFrame(featuresPriority)\n",
    "featuresPriority_df"
   ]
  },
  {
   "cell_type": "code",
   "execution_count": 47,
   "metadata": {},
   "outputs": [
    {
     "data": {
      "text/html": [
       "<div>\n",
       "<style scoped>\n",
       "    .dataframe tbody tr th:only-of-type {\n",
       "        vertical-align: middle;\n",
       "    }\n",
       "\n",
       "    .dataframe tbody tr th {\n",
       "        vertical-align: top;\n",
       "    }\n",
       "\n",
       "    .dataframe thead th {\n",
       "        text-align: right;\n",
       "    }\n",
       "</style>\n",
       "<table border=\"1\" class=\"dataframe\">\n",
       "  <thead>\n",
       "    <tr style=\"text-align: right;\">\n",
       "      <th></th>\n",
       "      <th>Accuracy %</th>\n",
       "      <th>Income Determinants</th>\n",
       "    </tr>\n",
       "  </thead>\n",
       "  <tbody>\n",
       "    <tr>\n",
       "      <th>0</th>\n",
       "      <td>0.156756</td>\n",
       "      <td>workclass</td>\n",
       "    </tr>\n",
       "    <tr>\n",
       "      <th>1</th>\n",
       "      <td>0.146403</td>\n",
       "      <td>age</td>\n",
       "    </tr>\n",
       "    <tr>\n",
       "      <th>2</th>\n",
       "      <td>0.093401</td>\n",
       "      <td>education</td>\n",
       "    </tr>\n",
       "    <tr>\n",
       "      <th>3</th>\n",
       "      <td>0.082719</td>\n",
       "      <td>marital_status</td>\n",
       "    </tr>\n",
       "    <tr>\n",
       "      <th>4</th>\n",
       "      <td>0.065416</td>\n",
       "      <td>fnlwgt</td>\n",
       "    </tr>\n",
       "    <tr>\n",
       "      <th>5</th>\n",
       "      <td>0.029550</td>\n",
       "      <td>education_number</td>\n",
       "    </tr>\n",
       "    <tr>\n",
       "      <th>6</th>\n",
       "      <td>0.010831</td>\n",
       "      <td>capital_gain</td>\n",
       "    </tr>\n",
       "    <tr>\n",
       "      <th>7</th>\n",
       "      <td>0.008343</td>\n",
       "      <td>hours_per_week</td>\n",
       "    </tr>\n",
       "    <tr>\n",
       "      <th>8</th>\n",
       "      <td>0.006691</td>\n",
       "      <td>capital_loss</td>\n",
       "    </tr>\n",
       "    <tr>\n",
       "      <th>9</th>\n",
       "      <td>0.005997</td>\n",
       "      <td>race</td>\n",
       "    </tr>\n",
       "    <tr>\n",
       "      <th>10</th>\n",
       "      <td>0.005824</td>\n",
       "      <td>relationship</td>\n",
       "    </tr>\n",
       "    <tr>\n",
       "      <th>11</th>\n",
       "      <td>0.004522</td>\n",
       "      <td>native_country</td>\n",
       "    </tr>\n",
       "    <tr>\n",
       "      <th>12</th>\n",
       "      <td>0.002044</td>\n",
       "      <td>occupation</td>\n",
       "    </tr>\n",
       "    <tr>\n",
       "      <th>13</th>\n",
       "      <td>0.000004</td>\n",
       "      <td>sex</td>\n",
       "    </tr>\n",
       "  </tbody>\n",
       "</table>\n",
       "</div>"
      ],
      "text/plain": [
       "    Accuracy % Income Determinants\n",
       "0     0.156756           workclass\n",
       "1     0.146403                 age\n",
       "2     0.093401           education\n",
       "3     0.082719      marital_status\n",
       "4     0.065416              fnlwgt\n",
       "5     0.029550    education_number\n",
       "6     0.010831        capital_gain\n",
       "7     0.008343      hours_per_week\n",
       "8     0.006691        capital_loss\n",
       "9     0.005997                race\n",
       "10    0.005824        relationship\n",
       "11    0.004522      native_country\n",
       "12    0.002044          occupation\n",
       "13    0.000004                 sex"
      ]
     },
     "execution_count": 47,
     "metadata": {},
     "output_type": "execute_result"
    }
   ],
   "source": [
    "featuresPriority_df = featuresPriority_df.rename(columns={0: 'Income Determinants', 1: 'Accuracy'})\n",
    "featuresPriority_df"
   ]
  },
  {
   "cell_type": "code",
   "execution_count": 105,
   "metadata": {},
   "outputs": [
    {
     "data": {
      "application/vnd.plotly.v1+json": {
       "config": {
        "plotlyServerURL": "https://plot.ly"
       },
       "data": [
        {
         "alignmentgroup": "True",
         "hovertemplate": "color=red<br>Income Determinants=%{x}<br>Accuracy %=%{y}<extra></extra>",
         "legendgroup": "red",
         "marker": {
          "color": "#636efa"
         },
         "name": "red",
         "offsetgroup": "red",
         "orientation": "v",
         "showlegend": true,
         "textposition": "auto",
         "type": "bar",
         "x": [
          "workclass",
          "sex"
         ],
         "xaxis": "x",
         "y": [
          0.15675619056746184,
          3.71468910452807e-06
         ],
         "yaxis": "y"
        },
        {
         "alignmentgroup": "True",
         "hovertemplate": "color=goldenrod<br>Income Determinants=%{x}<br>Accuracy %=%{y}<extra></extra>",
         "legendgroup": "goldenrod",
         "marker": {
          "color": "#EF553B"
         },
         "name": "goldenrod",
         "offsetgroup": "goldenrod",
         "orientation": "v",
         "showlegend": true,
         "textposition": "auto",
         "type": "bar",
         "x": [
          "age"
         ],
         "xaxis": "x",
         "y": [
          0.14640339633760188
         ],
         "yaxis": "y"
        },
        {
         "alignmentgroup": "True",
         "hovertemplate": "color=#0d0887<br>Income Determinants=%{x}<br>Accuracy %=%{y}<extra></extra>",
         "legendgroup": "#0d0887",
         "marker": {
          "color": "#00cc96"
         },
         "name": "#0d0887",
         "offsetgroup": "#0d0887",
         "orientation": "v",
         "showlegend": true,
         "textposition": "auto",
         "type": "bar",
         "x": [
          "education"
         ],
         "xaxis": "x",
         "y": [
          0.0934006468066822
         ],
         "yaxis": "y"
        },
        {
         "alignmentgroup": "True",
         "hovertemplate": "color=#46039f<br>Income Determinants=%{x}<br>Accuracy %=%{y}<extra></extra>",
         "legendgroup": "#46039f",
         "marker": {
          "color": "#ab63fa"
         },
         "name": "#46039f",
         "offsetgroup": "#46039f",
         "orientation": "v",
         "showlegend": true,
         "textposition": "auto",
         "type": "bar",
         "x": [
          "marital_status"
         ],
         "xaxis": "x",
         "y": [
          0.08271862696532768
         ],
         "yaxis": "y"
        },
        {
         "alignmentgroup": "True",
         "hovertemplate": "color=#7201a8<br>Income Determinants=%{x}<br>Accuracy %=%{y}<extra></extra>",
         "legendgroup": "#7201a8",
         "marker": {
          "color": "#FFA15A"
         },
         "name": "#7201a8",
         "offsetgroup": "#7201a8",
         "orientation": "v",
         "showlegend": true,
         "textposition": "auto",
         "type": "bar",
         "x": [
          "fnlwgt"
         ],
         "xaxis": "x",
         "y": [
          0.0654163198167225
         ],
         "yaxis": "y"
        },
        {
         "alignmentgroup": "True",
         "hovertemplate": "color=#9c179e<br>Income Determinants=%{x}<br>Accuracy %=%{y}<extra></extra>",
         "legendgroup": "#9c179e",
         "marker": {
          "color": "#19d3f3"
         },
         "name": "#9c179e",
         "offsetgroup": "#9c179e",
         "orientation": "v",
         "showlegend": true,
         "textposition": "auto",
         "type": "bar",
         "x": [
          "education_number"
         ],
         "xaxis": "x",
         "y": [
          0.029549683677092764
         ],
         "yaxis": "y"
        },
        {
         "alignmentgroup": "True",
         "hovertemplate": "color=#bd3786<br>Income Determinants=%{x}<br>Accuracy %=%{y}<extra></extra>",
         "legendgroup": "#bd3786",
         "marker": {
          "color": "#FF6692"
         },
         "name": "#bd3786",
         "offsetgroup": "#bd3786",
         "orientation": "v",
         "showlegend": true,
         "textposition": "auto",
         "type": "bar",
         "x": [
          "capital_gain"
         ],
         "xaxis": "x",
         "y": [
          0.010830715723119957
         ],
         "yaxis": "y"
        },
        {
         "alignmentgroup": "True",
         "hovertemplate": "color=#d8576b<br>Income Determinants=%{x}<br>Accuracy %=%{y}<extra></extra>",
         "legendgroup": "#d8576b",
         "marker": {
          "color": "#B6E880"
         },
         "name": "#d8576b",
         "offsetgroup": "#d8576b",
         "orientation": "v",
         "showlegend": true,
         "textposition": "auto",
         "type": "bar",
         "x": [
          "hours_per_week"
         ],
         "xaxis": "x",
         "y": [
          0.008343482396269709
         ],
         "yaxis": "y"
        },
        {
         "alignmentgroup": "True",
         "hovertemplate": "color=#ed7953<br>Income Determinants=%{x}<br>Accuracy %=%{y}<extra></extra>",
         "legendgroup": "#ed7953",
         "marker": {
          "color": "#FF97FF"
         },
         "name": "#ed7953",
         "offsetgroup": "#ed7953",
         "orientation": "v",
         "showlegend": true,
         "textposition": "auto",
         "type": "bar",
         "x": [
          "capital_loss"
         ],
         "xaxis": "x",
         "y": [
          0.006691120528424849
         ],
         "yaxis": "y"
        },
        {
         "alignmentgroup": "True",
         "hovertemplate": "color=#fb9f3a<br>Income Determinants=%{x}<br>Accuracy %=%{y}<extra></extra>",
         "legendgroup": "#fb9f3a",
         "marker": {
          "color": "#FECB52"
         },
         "name": "#fb9f3a",
         "offsetgroup": "#fb9f3a",
         "orientation": "v",
         "showlegend": true,
         "textposition": "auto",
         "type": "bar",
         "x": [
          "race"
         ],
         "xaxis": "x",
         "y": [
          0.005997269145614853
         ],
         "yaxis": "y"
        },
        {
         "alignmentgroup": "True",
         "hovertemplate": "color=#fdca26<br>Income Determinants=%{x}<br>Accuracy %=%{y}<extra></extra>",
         "legendgroup": "#fdca26",
         "marker": {
          "color": "#636efa"
         },
         "name": "#fdca26",
         "offsetgroup": "#fdca26",
         "orientation": "v",
         "showlegend": true,
         "textposition": "auto",
         "type": "bar",
         "x": [
          "relationship"
         ],
         "xaxis": "x",
         "y": [
          0.005823873806105836
         ],
         "yaxis": "y"
        },
        {
         "alignmentgroup": "True",
         "hovertemplate": "color=#f0f921<br>Income Determinants=%{x}<br>Accuracy %=%{y}<extra></extra>",
         "legendgroup": "#f0f921",
         "marker": {
          "color": "#EF553B"
         },
         "name": "#f0f921",
         "offsetgroup": "#f0f921",
         "orientation": "v",
         "showlegend": true,
         "textposition": "auto",
         "type": "bar",
         "x": [
          "native_country"
         ],
         "xaxis": "x",
         "y": [
          0.004522100643588014
         ],
         "yaxis": "y"
        },
        {
         "alignmentgroup": "True",
         "hovertemplate": "color=blue<br>Income Determinants=%{x}<br>Accuracy %=%{y}<extra></extra>",
         "legendgroup": "blue",
         "marker": {
          "color": "#00cc96"
         },
         "name": "blue",
         "offsetgroup": "blue",
         "orientation": "v",
         "showlegend": true,
         "textposition": "auto",
         "type": "bar",
         "x": [
          "occupation"
         ],
         "xaxis": "x",
         "y": [
          0.00204366508544866
         ],
         "yaxis": "y"
        }
       ],
       "layout": {
        "barmode": "stack",
        "legend": {
         "title": {
          "text": "color"
         },
         "tracegroupgap": 0
        },
        "showlegend": false,
        "template": {
         "data": {
          "bar": [
           {
            "error_x": {
             "color": "#2a3f5f"
            },
            "error_y": {
             "color": "#2a3f5f"
            },
            "marker": {
             "line": {
              "color": "#E5ECF6",
              "width": 0.5
             }
            },
            "type": "bar"
           }
          ],
          "barpolar": [
           {
            "marker": {
             "line": {
              "color": "#E5ECF6",
              "width": 0.5
             }
            },
            "type": "barpolar"
           }
          ],
          "carpet": [
           {
            "aaxis": {
             "endlinecolor": "#2a3f5f",
             "gridcolor": "white",
             "linecolor": "white",
             "minorgridcolor": "white",
             "startlinecolor": "#2a3f5f"
            },
            "baxis": {
             "endlinecolor": "#2a3f5f",
             "gridcolor": "white",
             "linecolor": "white",
             "minorgridcolor": "white",
             "startlinecolor": "#2a3f5f"
            },
            "type": "carpet"
           }
          ],
          "choropleth": [
           {
            "colorbar": {
             "outlinewidth": 0,
             "ticks": ""
            },
            "type": "choropleth"
           }
          ],
          "contour": [
           {
            "colorbar": {
             "outlinewidth": 0,
             "ticks": ""
            },
            "colorscale": [
             [
              0,
              "#0d0887"
             ],
             [
              0.1111111111111111,
              "#46039f"
             ],
             [
              0.2222222222222222,
              "#7201a8"
             ],
             [
              0.3333333333333333,
              "#9c179e"
             ],
             [
              0.4444444444444444,
              "#bd3786"
             ],
             [
              0.5555555555555556,
              "#d8576b"
             ],
             [
              0.6666666666666666,
              "#ed7953"
             ],
             [
              0.7777777777777778,
              "#fb9f3a"
             ],
             [
              0.8888888888888888,
              "#fdca26"
             ],
             [
              1,
              "#f0f921"
             ]
            ],
            "type": "contour"
           }
          ],
          "contourcarpet": [
           {
            "colorbar": {
             "outlinewidth": 0,
             "ticks": ""
            },
            "type": "contourcarpet"
           }
          ],
          "heatmap": [
           {
            "colorbar": {
             "outlinewidth": 0,
             "ticks": ""
            },
            "colorscale": [
             [
              0,
              "#0d0887"
             ],
             [
              0.1111111111111111,
              "#46039f"
             ],
             [
              0.2222222222222222,
              "#7201a8"
             ],
             [
              0.3333333333333333,
              "#9c179e"
             ],
             [
              0.4444444444444444,
              "#bd3786"
             ],
             [
              0.5555555555555556,
              "#d8576b"
             ],
             [
              0.6666666666666666,
              "#ed7953"
             ],
             [
              0.7777777777777778,
              "#fb9f3a"
             ],
             [
              0.8888888888888888,
              "#fdca26"
             ],
             [
              1,
              "#f0f921"
             ]
            ],
            "type": "heatmap"
           }
          ],
          "heatmapgl": [
           {
            "colorbar": {
             "outlinewidth": 0,
             "ticks": ""
            },
            "colorscale": [
             [
              0,
              "#0d0887"
             ],
             [
              0.1111111111111111,
              "#46039f"
             ],
             [
              0.2222222222222222,
              "#7201a8"
             ],
             [
              0.3333333333333333,
              "#9c179e"
             ],
             [
              0.4444444444444444,
              "#bd3786"
             ],
             [
              0.5555555555555556,
              "#d8576b"
             ],
             [
              0.6666666666666666,
              "#ed7953"
             ],
             [
              0.7777777777777778,
              "#fb9f3a"
             ],
             [
              0.8888888888888888,
              "#fdca26"
             ],
             [
              1,
              "#f0f921"
             ]
            ],
            "type": "heatmapgl"
           }
          ],
          "histogram": [
           {
            "marker": {
             "colorbar": {
              "outlinewidth": 0,
              "ticks": ""
             }
            },
            "type": "histogram"
           }
          ],
          "histogram2d": [
           {
            "colorbar": {
             "outlinewidth": 0,
             "ticks": ""
            },
            "colorscale": [
             [
              0,
              "#0d0887"
             ],
             [
              0.1111111111111111,
              "#46039f"
             ],
             [
              0.2222222222222222,
              "#7201a8"
             ],
             [
              0.3333333333333333,
              "#9c179e"
             ],
             [
              0.4444444444444444,
              "#bd3786"
             ],
             [
              0.5555555555555556,
              "#d8576b"
             ],
             [
              0.6666666666666666,
              "#ed7953"
             ],
             [
              0.7777777777777778,
              "#fb9f3a"
             ],
             [
              0.8888888888888888,
              "#fdca26"
             ],
             [
              1,
              "#f0f921"
             ]
            ],
            "type": "histogram2d"
           }
          ],
          "histogram2dcontour": [
           {
            "colorbar": {
             "outlinewidth": 0,
             "ticks": ""
            },
            "colorscale": [
             [
              0,
              "#0d0887"
             ],
             [
              0.1111111111111111,
              "#46039f"
             ],
             [
              0.2222222222222222,
              "#7201a8"
             ],
             [
              0.3333333333333333,
              "#9c179e"
             ],
             [
              0.4444444444444444,
              "#bd3786"
             ],
             [
              0.5555555555555556,
              "#d8576b"
             ],
             [
              0.6666666666666666,
              "#ed7953"
             ],
             [
              0.7777777777777778,
              "#fb9f3a"
             ],
             [
              0.8888888888888888,
              "#fdca26"
             ],
             [
              1,
              "#f0f921"
             ]
            ],
            "type": "histogram2dcontour"
           }
          ],
          "mesh3d": [
           {
            "colorbar": {
             "outlinewidth": 0,
             "ticks": ""
            },
            "type": "mesh3d"
           }
          ],
          "parcoords": [
           {
            "line": {
             "colorbar": {
              "outlinewidth": 0,
              "ticks": ""
             }
            },
            "type": "parcoords"
           }
          ],
          "pie": [
           {
            "automargin": true,
            "type": "pie"
           }
          ],
          "scatter": [
           {
            "marker": {
             "colorbar": {
              "outlinewidth": 0,
              "ticks": ""
             }
            },
            "type": "scatter"
           }
          ],
          "scatter3d": [
           {
            "line": {
             "colorbar": {
              "outlinewidth": 0,
              "ticks": ""
             }
            },
            "marker": {
             "colorbar": {
              "outlinewidth": 0,
              "ticks": ""
             }
            },
            "type": "scatter3d"
           }
          ],
          "scattercarpet": [
           {
            "marker": {
             "colorbar": {
              "outlinewidth": 0,
              "ticks": ""
             }
            },
            "type": "scattercarpet"
           }
          ],
          "scattergeo": [
           {
            "marker": {
             "colorbar": {
              "outlinewidth": 0,
              "ticks": ""
             }
            },
            "type": "scattergeo"
           }
          ],
          "scattergl": [
           {
            "marker": {
             "colorbar": {
              "outlinewidth": 0,
              "ticks": ""
             }
            },
            "type": "scattergl"
           }
          ],
          "scattermapbox": [
           {
            "marker": {
             "colorbar": {
              "outlinewidth": 0,
              "ticks": ""
             }
            },
            "type": "scattermapbox"
           }
          ],
          "scatterpolar": [
           {
            "marker": {
             "colorbar": {
              "outlinewidth": 0,
              "ticks": ""
             }
            },
            "type": "scatterpolar"
           }
          ],
          "scatterpolargl": [
           {
            "marker": {
             "colorbar": {
              "outlinewidth": 0,
              "ticks": ""
             }
            },
            "type": "scatterpolargl"
           }
          ],
          "scatterternary": [
           {
            "marker": {
             "colorbar": {
              "outlinewidth": 0,
              "ticks": ""
             }
            },
            "type": "scatterternary"
           }
          ],
          "surface": [
           {
            "colorbar": {
             "outlinewidth": 0,
             "ticks": ""
            },
            "colorscale": [
             [
              0,
              "#0d0887"
             ],
             [
              0.1111111111111111,
              "#46039f"
             ],
             [
              0.2222222222222222,
              "#7201a8"
             ],
             [
              0.3333333333333333,
              "#9c179e"
             ],
             [
              0.4444444444444444,
              "#bd3786"
             ],
             [
              0.5555555555555556,
              "#d8576b"
             ],
             [
              0.6666666666666666,
              "#ed7953"
             ],
             [
              0.7777777777777778,
              "#fb9f3a"
             ],
             [
              0.8888888888888888,
              "#fdca26"
             ],
             [
              1,
              "#f0f921"
             ]
            ],
            "type": "surface"
           }
          ],
          "table": [
           {
            "cells": {
             "fill": {
              "color": "#EBF0F8"
             },
             "line": {
              "color": "white"
             }
            },
            "header": {
             "fill": {
              "color": "#C8D4E3"
             },
             "line": {
              "color": "white"
             }
            },
            "type": "table"
           }
          ]
         },
         "layout": {
          "annotationdefaults": {
           "arrowcolor": "#2a3f5f",
           "arrowhead": 0,
           "arrowwidth": 1
          },
          "autotypenumbers": "strict",
          "coloraxis": {
           "colorbar": {
            "outlinewidth": 0,
            "ticks": ""
           }
          },
          "colorscale": {
           "diverging": [
            [
             0,
             "#8e0152"
            ],
            [
             0.1,
             "#c51b7d"
            ],
            [
             0.2,
             "#de77ae"
            ],
            [
             0.3,
             "#f1b6da"
            ],
            [
             0.4,
             "#fde0ef"
            ],
            [
             0.5,
             "#f7f7f7"
            ],
            [
             0.6,
             "#e6f5d0"
            ],
            [
             0.7,
             "#b8e186"
            ],
            [
             0.8,
             "#7fbc41"
            ],
            [
             0.9,
             "#4d9221"
            ],
            [
             1,
             "#276419"
            ]
           ],
           "sequential": [
            [
             0,
             "#0d0887"
            ],
            [
             0.1111111111111111,
             "#46039f"
            ],
            [
             0.2222222222222222,
             "#7201a8"
            ],
            [
             0.3333333333333333,
             "#9c179e"
            ],
            [
             0.4444444444444444,
             "#bd3786"
            ],
            [
             0.5555555555555556,
             "#d8576b"
            ],
            [
             0.6666666666666666,
             "#ed7953"
            ],
            [
             0.7777777777777778,
             "#fb9f3a"
            ],
            [
             0.8888888888888888,
             "#fdca26"
            ],
            [
             1,
             "#f0f921"
            ]
           ],
           "sequentialminus": [
            [
             0,
             "#0d0887"
            ],
            [
             0.1111111111111111,
             "#46039f"
            ],
            [
             0.2222222222222222,
             "#7201a8"
            ],
            [
             0.3333333333333333,
             "#9c179e"
            ],
            [
             0.4444444444444444,
             "#bd3786"
            ],
            [
             0.5555555555555556,
             "#d8576b"
            ],
            [
             0.6666666666666666,
             "#ed7953"
            ],
            [
             0.7777777777777778,
             "#fb9f3a"
            ],
            [
             0.8888888888888888,
             "#fdca26"
            ],
            [
             1,
             "#f0f921"
            ]
           ]
          },
          "colorway": [
           "#636efa",
           "#EF553B",
           "#00cc96",
           "#ab63fa",
           "#FFA15A",
           "#19d3f3",
           "#FF6692",
           "#B6E880",
           "#FF97FF",
           "#FECB52"
          ],
          "font": {
           "color": "#2a3f5f"
          },
          "geo": {
           "bgcolor": "white",
           "lakecolor": "white",
           "landcolor": "#E5ECF6",
           "showlakes": true,
           "showland": true,
           "subunitcolor": "white"
          },
          "hoverlabel": {
           "align": "left"
          },
          "hovermode": "closest",
          "mapbox": {
           "style": "light"
          },
          "paper_bgcolor": "white",
          "plot_bgcolor": "#E5ECF6",
          "polar": {
           "angularaxis": {
            "gridcolor": "white",
            "linecolor": "white",
            "ticks": ""
           },
           "bgcolor": "#E5ECF6",
           "radialaxis": {
            "gridcolor": "white",
            "linecolor": "white",
            "ticks": ""
           }
          },
          "scene": {
           "xaxis": {
            "backgroundcolor": "#E5ECF6",
            "gridcolor": "white",
            "gridwidth": 2,
            "linecolor": "white",
            "showbackground": true,
            "ticks": "",
            "zerolinecolor": "white"
           },
           "yaxis": {
            "backgroundcolor": "#E5ECF6",
            "gridcolor": "white",
            "gridwidth": 2,
            "linecolor": "white",
            "showbackground": true,
            "ticks": "",
            "zerolinecolor": "white"
           },
           "zaxis": {
            "backgroundcolor": "#E5ECF6",
            "gridcolor": "white",
            "gridwidth": 2,
            "linecolor": "white",
            "showbackground": true,
            "ticks": "",
            "zerolinecolor": "white"
           }
          },
          "shapedefaults": {
           "line": {
            "color": "#2a3f5f"
           }
          },
          "ternary": {
           "aaxis": {
            "gridcolor": "white",
            "linecolor": "white",
            "ticks": ""
           },
           "baxis": {
            "gridcolor": "white",
            "linecolor": "white",
            "ticks": ""
           },
           "bgcolor": "#E5ECF6",
           "caxis": {
            "gridcolor": "white",
            "linecolor": "white",
            "ticks": ""
           }
          },
          "title": {
           "x": 0.05
          },
          "xaxis": {
           "automargin": true,
           "gridcolor": "white",
           "linecolor": "white",
           "ticks": "",
           "title": {
            "standoff": 15
           },
           "zerolinecolor": "white",
           "zerolinewidth": 2
          },
          "yaxis": {
           "automargin": true,
           "gridcolor": "white",
           "linecolor": "white",
           "ticks": "",
           "title": {
            "standoff": 15
           },
           "zerolinecolor": "white",
           "zerolinewidth": 2
          }
         }
        },
        "title": {
         "text": "Factors That Contribute To Income Greater Than Or Equal To 50,000 Dollars Per Year"
        },
        "xaxis": {
         "anchor": "y",
         "categoryorder": "total descending",
         "domain": [
          0,
          1
         ],
         "title": {
          "text": "Income Determinants"
         }
        },
        "yaxis": {
         "anchor": "x",
         "domain": [
          0,
          1
         ],
         "title": {
          "text": "Accuracy %"
         }
        }
       }
      },
      "text/html": [
       "<div>                            <div id=\"5a3789d4-9895-4638-8deb-22d0e05ec4ff\" class=\"plotly-graph-div\" style=\"height:525px; width:100%;\"></div>            <script type=\"text/javascript\">                require([\"plotly\"], function(Plotly) {                    window.PLOTLYENV=window.PLOTLYENV || {};                                    if (document.getElementById(\"5a3789d4-9895-4638-8deb-22d0e05ec4ff\")) {                    Plotly.newPlot(                        \"5a3789d4-9895-4638-8deb-22d0e05ec4ff\",                        [{\"alignmentgroup\": \"True\", \"hovertemplate\": \"color=red<br>Income Determinants=%{x}<br>Accuracy %=%{y}<extra></extra>\", \"legendgroup\": \"red\", \"marker\": {\"color\": \"#636efa\"}, \"name\": \"red\", \"offsetgroup\": \"red\", \"orientation\": \"v\", \"showlegend\": true, \"textposition\": \"auto\", \"type\": \"bar\", \"x\": [\"workclass\", \"sex\"], \"xaxis\": \"x\", \"y\": [0.15675619056746184, 3.71468910452807e-06], \"yaxis\": \"y\"}, {\"alignmentgroup\": \"True\", \"hovertemplate\": \"color=goldenrod<br>Income Determinants=%{x}<br>Accuracy %=%{y}<extra></extra>\", \"legendgroup\": \"goldenrod\", \"marker\": {\"color\": \"#EF553B\"}, \"name\": \"goldenrod\", \"offsetgroup\": \"goldenrod\", \"orientation\": \"v\", \"showlegend\": true, \"textposition\": \"auto\", \"type\": \"bar\", \"x\": [\"age\"], \"xaxis\": \"x\", \"y\": [0.14640339633760188], \"yaxis\": \"y\"}, {\"alignmentgroup\": \"True\", \"hovertemplate\": \"color=#0d0887<br>Income Determinants=%{x}<br>Accuracy %=%{y}<extra></extra>\", \"legendgroup\": \"#0d0887\", \"marker\": {\"color\": \"#00cc96\"}, \"name\": \"#0d0887\", \"offsetgroup\": \"#0d0887\", \"orientation\": \"v\", \"showlegend\": true, \"textposition\": \"auto\", \"type\": \"bar\", \"x\": [\"education\"], \"xaxis\": \"x\", \"y\": [0.0934006468066822], \"yaxis\": \"y\"}, {\"alignmentgroup\": \"True\", \"hovertemplate\": \"color=#46039f<br>Income Determinants=%{x}<br>Accuracy %=%{y}<extra></extra>\", \"legendgroup\": \"#46039f\", \"marker\": {\"color\": \"#ab63fa\"}, \"name\": \"#46039f\", \"offsetgroup\": \"#46039f\", \"orientation\": \"v\", \"showlegend\": true, \"textposition\": \"auto\", \"type\": \"bar\", \"x\": [\"marital_status\"], \"xaxis\": \"x\", \"y\": [0.08271862696532768], \"yaxis\": \"y\"}, {\"alignmentgroup\": \"True\", \"hovertemplate\": \"color=#7201a8<br>Income Determinants=%{x}<br>Accuracy %=%{y}<extra></extra>\", \"legendgroup\": \"#7201a8\", \"marker\": {\"color\": \"#FFA15A\"}, \"name\": \"#7201a8\", \"offsetgroup\": \"#7201a8\", \"orientation\": \"v\", \"showlegend\": true, \"textposition\": \"auto\", \"type\": \"bar\", \"x\": [\"fnlwgt\"], \"xaxis\": \"x\", \"y\": [0.0654163198167225], \"yaxis\": \"y\"}, {\"alignmentgroup\": \"True\", \"hovertemplate\": \"color=#9c179e<br>Income Determinants=%{x}<br>Accuracy %=%{y}<extra></extra>\", \"legendgroup\": \"#9c179e\", \"marker\": {\"color\": \"#19d3f3\"}, \"name\": \"#9c179e\", \"offsetgroup\": \"#9c179e\", \"orientation\": \"v\", \"showlegend\": true, \"textposition\": \"auto\", \"type\": \"bar\", \"x\": [\"education_number\"], \"xaxis\": \"x\", \"y\": [0.029549683677092764], \"yaxis\": \"y\"}, {\"alignmentgroup\": \"True\", \"hovertemplate\": \"color=#bd3786<br>Income Determinants=%{x}<br>Accuracy %=%{y}<extra></extra>\", \"legendgroup\": \"#bd3786\", \"marker\": {\"color\": \"#FF6692\"}, \"name\": \"#bd3786\", \"offsetgroup\": \"#bd3786\", \"orientation\": \"v\", \"showlegend\": true, \"textposition\": \"auto\", \"type\": \"bar\", \"x\": [\"capital_gain\"], \"xaxis\": \"x\", \"y\": [0.010830715723119957], \"yaxis\": \"y\"}, {\"alignmentgroup\": \"True\", \"hovertemplate\": \"color=#d8576b<br>Income Determinants=%{x}<br>Accuracy %=%{y}<extra></extra>\", \"legendgroup\": \"#d8576b\", \"marker\": {\"color\": \"#B6E880\"}, \"name\": \"#d8576b\", \"offsetgroup\": \"#d8576b\", \"orientation\": \"v\", \"showlegend\": true, \"textposition\": \"auto\", \"type\": \"bar\", \"x\": [\"hours_per_week\"], \"xaxis\": \"x\", \"y\": [0.008343482396269709], \"yaxis\": \"y\"}, {\"alignmentgroup\": \"True\", \"hovertemplate\": \"color=#ed7953<br>Income Determinants=%{x}<br>Accuracy %=%{y}<extra></extra>\", \"legendgroup\": \"#ed7953\", \"marker\": {\"color\": \"#FF97FF\"}, \"name\": \"#ed7953\", \"offsetgroup\": \"#ed7953\", \"orientation\": \"v\", \"showlegend\": true, \"textposition\": \"auto\", \"type\": \"bar\", \"x\": [\"capital_loss\"], \"xaxis\": \"x\", \"y\": [0.006691120528424849], \"yaxis\": \"y\"}, {\"alignmentgroup\": \"True\", \"hovertemplate\": \"color=#fb9f3a<br>Income Determinants=%{x}<br>Accuracy %=%{y}<extra></extra>\", \"legendgroup\": \"#fb9f3a\", \"marker\": {\"color\": \"#FECB52\"}, \"name\": \"#fb9f3a\", \"offsetgroup\": \"#fb9f3a\", \"orientation\": \"v\", \"showlegend\": true, \"textposition\": \"auto\", \"type\": \"bar\", \"x\": [\"race\"], \"xaxis\": \"x\", \"y\": [0.005997269145614853], \"yaxis\": \"y\"}, {\"alignmentgroup\": \"True\", \"hovertemplate\": \"color=#fdca26<br>Income Determinants=%{x}<br>Accuracy %=%{y}<extra></extra>\", \"legendgroup\": \"#fdca26\", \"marker\": {\"color\": \"#636efa\"}, \"name\": \"#fdca26\", \"offsetgroup\": \"#fdca26\", \"orientation\": \"v\", \"showlegend\": true, \"textposition\": \"auto\", \"type\": \"bar\", \"x\": [\"relationship\"], \"xaxis\": \"x\", \"y\": [0.005823873806105836], \"yaxis\": \"y\"}, {\"alignmentgroup\": \"True\", \"hovertemplate\": \"color=#f0f921<br>Income Determinants=%{x}<br>Accuracy %=%{y}<extra></extra>\", \"legendgroup\": \"#f0f921\", \"marker\": {\"color\": \"#EF553B\"}, \"name\": \"#f0f921\", \"offsetgroup\": \"#f0f921\", \"orientation\": \"v\", \"showlegend\": true, \"textposition\": \"auto\", \"type\": \"bar\", \"x\": [\"native_country\"], \"xaxis\": \"x\", \"y\": [0.004522100643588014], \"yaxis\": \"y\"}, {\"alignmentgroup\": \"True\", \"hovertemplate\": \"color=blue<br>Income Determinants=%{x}<br>Accuracy %=%{y}<extra></extra>\", \"legendgroup\": \"blue\", \"marker\": {\"color\": \"#00cc96\"}, \"name\": \"blue\", \"offsetgroup\": \"blue\", \"orientation\": \"v\", \"showlegend\": true, \"textposition\": \"auto\", \"type\": \"bar\", \"x\": [\"occupation\"], \"xaxis\": \"x\", \"y\": [0.00204366508544866], \"yaxis\": \"y\"}],                        {\"barmode\": \"stack\", \"legend\": {\"title\": {\"text\": \"color\"}, \"tracegroupgap\": 0}, \"showlegend\": false, \"template\": {\"data\": {\"bar\": [{\"error_x\": {\"color\": \"#2a3f5f\"}, \"error_y\": {\"color\": \"#2a3f5f\"}, \"marker\": {\"line\": {\"color\": \"#E5ECF6\", \"width\": 0.5}}, \"type\": \"bar\"}], \"barpolar\": [{\"marker\": {\"line\": {\"color\": \"#E5ECF6\", \"width\": 0.5}}, \"type\": \"barpolar\"}], \"carpet\": [{\"aaxis\": {\"endlinecolor\": \"#2a3f5f\", \"gridcolor\": \"white\", \"linecolor\": \"white\", \"minorgridcolor\": \"white\", \"startlinecolor\": \"#2a3f5f\"}, \"baxis\": {\"endlinecolor\": \"#2a3f5f\", \"gridcolor\": \"white\", \"linecolor\": \"white\", \"minorgridcolor\": \"white\", \"startlinecolor\": \"#2a3f5f\"}, \"type\": \"carpet\"}], \"choropleth\": [{\"colorbar\": {\"outlinewidth\": 0, \"ticks\": \"\"}, \"type\": \"choropleth\"}], \"contour\": [{\"colorbar\": {\"outlinewidth\": 0, \"ticks\": \"\"}, \"colorscale\": [[0.0, \"#0d0887\"], [0.1111111111111111, \"#46039f\"], [0.2222222222222222, \"#7201a8\"], [0.3333333333333333, \"#9c179e\"], [0.4444444444444444, \"#bd3786\"], [0.5555555555555556, \"#d8576b\"], [0.6666666666666666, \"#ed7953\"], [0.7777777777777778, \"#fb9f3a\"], [0.8888888888888888, \"#fdca26\"], [1.0, \"#f0f921\"]], \"type\": \"contour\"}], \"contourcarpet\": [{\"colorbar\": {\"outlinewidth\": 0, \"ticks\": \"\"}, \"type\": \"contourcarpet\"}], \"heatmap\": [{\"colorbar\": {\"outlinewidth\": 0, \"ticks\": \"\"}, \"colorscale\": [[0.0, \"#0d0887\"], [0.1111111111111111, \"#46039f\"], [0.2222222222222222, \"#7201a8\"], [0.3333333333333333, \"#9c179e\"], [0.4444444444444444, \"#bd3786\"], [0.5555555555555556, \"#d8576b\"], [0.6666666666666666, \"#ed7953\"], [0.7777777777777778, \"#fb9f3a\"], [0.8888888888888888, \"#fdca26\"], [1.0, \"#f0f921\"]], \"type\": \"heatmap\"}], \"heatmapgl\": [{\"colorbar\": {\"outlinewidth\": 0, \"ticks\": \"\"}, \"colorscale\": [[0.0, \"#0d0887\"], [0.1111111111111111, \"#46039f\"], [0.2222222222222222, \"#7201a8\"], [0.3333333333333333, \"#9c179e\"], [0.4444444444444444, \"#bd3786\"], [0.5555555555555556, \"#d8576b\"], [0.6666666666666666, \"#ed7953\"], [0.7777777777777778, \"#fb9f3a\"], [0.8888888888888888, \"#fdca26\"], [1.0, \"#f0f921\"]], \"type\": \"heatmapgl\"}], \"histogram\": [{\"marker\": {\"colorbar\": {\"outlinewidth\": 0, \"ticks\": \"\"}}, \"type\": \"histogram\"}], \"histogram2d\": [{\"colorbar\": {\"outlinewidth\": 0, \"ticks\": \"\"}, \"colorscale\": [[0.0, \"#0d0887\"], [0.1111111111111111, \"#46039f\"], [0.2222222222222222, \"#7201a8\"], [0.3333333333333333, \"#9c179e\"], [0.4444444444444444, \"#bd3786\"], [0.5555555555555556, \"#d8576b\"], [0.6666666666666666, \"#ed7953\"], [0.7777777777777778, \"#fb9f3a\"], [0.8888888888888888, \"#fdca26\"], [1.0, \"#f0f921\"]], \"type\": \"histogram2d\"}], \"histogram2dcontour\": [{\"colorbar\": {\"outlinewidth\": 0, \"ticks\": \"\"}, \"colorscale\": [[0.0, \"#0d0887\"], [0.1111111111111111, \"#46039f\"], [0.2222222222222222, \"#7201a8\"], [0.3333333333333333, \"#9c179e\"], [0.4444444444444444, \"#bd3786\"], [0.5555555555555556, \"#d8576b\"], [0.6666666666666666, \"#ed7953\"], [0.7777777777777778, \"#fb9f3a\"], [0.8888888888888888, \"#fdca26\"], [1.0, \"#f0f921\"]], \"type\": \"histogram2dcontour\"}], \"mesh3d\": [{\"colorbar\": {\"outlinewidth\": 0, \"ticks\": \"\"}, \"type\": \"mesh3d\"}], \"parcoords\": [{\"line\": {\"colorbar\": {\"outlinewidth\": 0, \"ticks\": \"\"}}, \"type\": \"parcoords\"}], \"pie\": [{\"automargin\": true, \"type\": \"pie\"}], \"scatter\": [{\"marker\": {\"colorbar\": {\"outlinewidth\": 0, \"ticks\": \"\"}}, \"type\": \"scatter\"}], \"scatter3d\": [{\"line\": {\"colorbar\": {\"outlinewidth\": 0, \"ticks\": \"\"}}, \"marker\": {\"colorbar\": {\"outlinewidth\": 0, \"ticks\": \"\"}}, \"type\": \"scatter3d\"}], \"scattercarpet\": [{\"marker\": {\"colorbar\": {\"outlinewidth\": 0, \"ticks\": \"\"}}, \"type\": \"scattercarpet\"}], \"scattergeo\": [{\"marker\": {\"colorbar\": {\"outlinewidth\": 0, \"ticks\": \"\"}}, \"type\": \"scattergeo\"}], \"scattergl\": [{\"marker\": {\"colorbar\": {\"outlinewidth\": 0, \"ticks\": \"\"}}, \"type\": \"scattergl\"}], \"scattermapbox\": [{\"marker\": {\"colorbar\": {\"outlinewidth\": 0, \"ticks\": \"\"}}, \"type\": \"scattermapbox\"}], \"scatterpolar\": [{\"marker\": {\"colorbar\": {\"outlinewidth\": 0, \"ticks\": \"\"}}, \"type\": \"scatterpolar\"}], \"scatterpolargl\": [{\"marker\": {\"colorbar\": {\"outlinewidth\": 0, \"ticks\": \"\"}}, \"type\": \"scatterpolargl\"}], \"scatterternary\": [{\"marker\": {\"colorbar\": {\"outlinewidth\": 0, \"ticks\": \"\"}}, \"type\": \"scatterternary\"}], \"surface\": [{\"colorbar\": {\"outlinewidth\": 0, \"ticks\": \"\"}, \"colorscale\": [[0.0, \"#0d0887\"], [0.1111111111111111, \"#46039f\"], [0.2222222222222222, \"#7201a8\"], [0.3333333333333333, \"#9c179e\"], [0.4444444444444444, \"#bd3786\"], [0.5555555555555556, \"#d8576b\"], [0.6666666666666666, \"#ed7953\"], [0.7777777777777778, \"#fb9f3a\"], [0.8888888888888888, \"#fdca26\"], [1.0, \"#f0f921\"]], \"type\": \"surface\"}], \"table\": [{\"cells\": {\"fill\": {\"color\": \"#EBF0F8\"}, \"line\": {\"color\": \"white\"}}, \"header\": {\"fill\": {\"color\": \"#C8D4E3\"}, \"line\": {\"color\": \"white\"}}, \"type\": \"table\"}]}, \"layout\": {\"annotationdefaults\": {\"arrowcolor\": \"#2a3f5f\", \"arrowhead\": 0, \"arrowwidth\": 1}, \"autotypenumbers\": \"strict\", \"coloraxis\": {\"colorbar\": {\"outlinewidth\": 0, \"ticks\": \"\"}}, \"colorscale\": {\"diverging\": [[0, \"#8e0152\"], [0.1, \"#c51b7d\"], [0.2, \"#de77ae\"], [0.3, \"#f1b6da\"], [0.4, \"#fde0ef\"], [0.5, \"#f7f7f7\"], [0.6, \"#e6f5d0\"], [0.7, \"#b8e186\"], [0.8, \"#7fbc41\"], [0.9, \"#4d9221\"], [1, \"#276419\"]], \"sequential\": [[0.0, \"#0d0887\"], [0.1111111111111111, \"#46039f\"], [0.2222222222222222, \"#7201a8\"], [0.3333333333333333, \"#9c179e\"], [0.4444444444444444, \"#bd3786\"], [0.5555555555555556, \"#d8576b\"], [0.6666666666666666, \"#ed7953\"], [0.7777777777777778, \"#fb9f3a\"], [0.8888888888888888, \"#fdca26\"], [1.0, \"#f0f921\"]], \"sequentialminus\": [[0.0, \"#0d0887\"], [0.1111111111111111, \"#46039f\"], [0.2222222222222222, \"#7201a8\"], [0.3333333333333333, \"#9c179e\"], [0.4444444444444444, \"#bd3786\"], [0.5555555555555556, \"#d8576b\"], [0.6666666666666666, \"#ed7953\"], [0.7777777777777778, \"#fb9f3a\"], [0.8888888888888888, \"#fdca26\"], [1.0, \"#f0f921\"]]}, \"colorway\": [\"#636efa\", \"#EF553B\", \"#00cc96\", \"#ab63fa\", \"#FFA15A\", \"#19d3f3\", \"#FF6692\", \"#B6E880\", \"#FF97FF\", \"#FECB52\"], \"font\": {\"color\": \"#2a3f5f\"}, \"geo\": {\"bgcolor\": \"white\", \"lakecolor\": \"white\", \"landcolor\": \"#E5ECF6\", \"showlakes\": true, \"showland\": true, \"subunitcolor\": \"white\"}, \"hoverlabel\": {\"align\": \"left\"}, \"hovermode\": \"closest\", \"mapbox\": {\"style\": \"light\"}, \"paper_bgcolor\": \"white\", \"plot_bgcolor\": \"#E5ECF6\", \"polar\": {\"angularaxis\": {\"gridcolor\": \"white\", \"linecolor\": \"white\", \"ticks\": \"\"}, \"bgcolor\": \"#E5ECF6\", \"radialaxis\": {\"gridcolor\": \"white\", \"linecolor\": \"white\", \"ticks\": \"\"}}, \"scene\": {\"xaxis\": {\"backgroundcolor\": \"#E5ECF6\", \"gridcolor\": \"white\", \"gridwidth\": 2, \"linecolor\": \"white\", \"showbackground\": true, \"ticks\": \"\", \"zerolinecolor\": \"white\"}, \"yaxis\": {\"backgroundcolor\": \"#E5ECF6\", \"gridcolor\": \"white\", \"gridwidth\": 2, \"linecolor\": \"white\", \"showbackground\": true, \"ticks\": \"\", \"zerolinecolor\": \"white\"}, \"zaxis\": {\"backgroundcolor\": \"#E5ECF6\", \"gridcolor\": \"white\", \"gridwidth\": 2, \"linecolor\": \"white\", \"showbackground\": true, \"ticks\": \"\", \"zerolinecolor\": \"white\"}}, \"shapedefaults\": {\"line\": {\"color\": \"#2a3f5f\"}}, \"ternary\": {\"aaxis\": {\"gridcolor\": \"white\", \"linecolor\": \"white\", \"ticks\": \"\"}, \"baxis\": {\"gridcolor\": \"white\", \"linecolor\": \"white\", \"ticks\": \"\"}, \"bgcolor\": \"#E5ECF6\", \"caxis\": {\"gridcolor\": \"white\", \"linecolor\": \"white\", \"ticks\": \"\"}}, \"title\": {\"x\": 0.05}, \"xaxis\": {\"automargin\": true, \"gridcolor\": \"white\", \"linecolor\": \"white\", \"ticks\": \"\", \"title\": {\"standoff\": 15}, \"zerolinecolor\": \"white\", \"zerolinewidth\": 2}, \"yaxis\": {\"automargin\": true, \"gridcolor\": \"white\", \"linecolor\": \"white\", \"ticks\": \"\", \"title\": {\"standoff\": 15}, \"zerolinecolor\": \"white\", \"zerolinewidth\": 2}}}, \"title\": {\"text\": \"Factors That Contribute To Income Greater Than Or Equal To 50,000 Dollars Per Year\"}, \"xaxis\": {\"anchor\": \"y\", \"categoryorder\": \"total descending\", \"domain\": [0.0, 1.0], \"title\": {\"text\": \"Income Determinants\"}}, \"yaxis\": {\"anchor\": \"x\", \"domain\": [0.0, 1.0], \"title\": {\"text\": \"Accuracy %\"}}},                        {\"responsive\": true}                    ).then(function(){\n",
       "                            \n",
       "var gd = document.getElementById('5a3789d4-9895-4638-8deb-22d0e05ec4ff');\n",
       "var x = new MutationObserver(function (mutations, observer) {{\n",
       "        var display = window.getComputedStyle(gd).display;\n",
       "        if (!display || display === 'none') {{\n",
       "            console.log([gd, 'removed!']);\n",
       "            Plotly.purge(gd);\n",
       "            observer.disconnect();\n",
       "        }}\n",
       "}});\n",
       "\n",
       "// Listen for the removal of the full notebook cells\n",
       "var notebookContainer = gd.closest('#notebook-container');\n",
       "if (notebookContainer) {{\n",
       "    x.observe(notebookContainer, {childList: true});\n",
       "}}\n",
       "\n",
       "// Listen for the clearing of the current output cell\n",
       "var outputEl = gd.closest('.output');\n",
       "if (outputEl) {{\n",
       "    x.observe(outputEl, {childList: true});\n",
       "}}\n",
       "\n",
       "                        })                };                });            </script>        </div>"
      ]
     },
     "metadata": {},
     "output_type": "display_data"
    }
   ],
   "source": [
    "import plotly.express as px\n",
    "\n",
    "fig = px.bar(featuresPriority_df, x= 'Income Determinants', y='Accuracy %',  color =[\"red\", \"goldenrod\",'#0d0887', '#46039f', '#7201a8', '#9c179e', '#bd3786', '#d8576b', '#ed7953', '#fb9f3a', '#fdca26', '#f0f921','blue','red'], labels={'Income Determinants', 'Accuracy %'}, title = 'Factors That Contribute To Income Greater Than Or Equal To 50,000 Dollars Per Year', \n",
    "  )\n",
    "fig.update_layout(barmode='stack', xaxis={'categoryorder':'total descending'},showlegend= False)\n",
    "fig.show()"
   ]
  },
  {
   "cell_type": "code",
   "execution_count": 17,
   "metadata": {},
   "outputs": [],
   "source": [
    "featuresPriority\n",
    "labels = []\n",
    "values = []\n",
    "\n",
    "for i in range(0, len(featuresPriority)): \n",
    "       values.append(featuresPriority[i][0])\n",
    "       labels.append(featuresPriority[i][1])\n"
   ]
  },
  {
   "cell_type": "code",
   "execution_count": 18,
   "metadata": {},
   "outputs": [
    {
     "data": {
      "image/png": "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\n",
      "text/plain": [
       "<Figure size 864x432 with 1 Axes>"
      ]
     },
     "metadata": {
      "needs_background": "light"
     },
     "output_type": "display_data"
    }
   ],
   "source": [
    "import matplotlib.pyplot as plt\n",
    "fig, ax = plt.subplots(figsize= (12,6))\n",
    "ax.bar(labels, values)\n",
    "plt.xticks(rotation = 45)\n",
    "plt.ylabel(\" Percentage of Accuracy In Income Prediction\",  fontsize=12)\n",
    "plt.xlabel(\"Features that Contribute to Income Prediction\",  fontsize=12)\n",
    "plt.title (\"Features that Predict Income greater than or less than 50K \")\n",
    "\n",
    "plt.show()\n",
    "\n",
    "\n",
    "\n",
    "\n",
    "\n",
    "\n",
    "#plt.bar(x = labels, height=values)"
   ]
  },
  {
   "cell_type": "code",
   "execution_count": 19,
   "metadata": {},
   "outputs": [
    {
     "data": {
      "text/plain": [
       "[(0.15675619056746184, 'workclass'),\n",
       " (0.14640339633760188, 'age'),\n",
       " (0.0934006468066822, 'education'),\n",
       " (0.08271862696532768, 'marital_status'),\n",
       " (0.0654163198167225, 'fnlwgt'),\n",
       " (0.029549683677092764, 'education_number'),\n",
       " (0.010830715723119957, 'capital_gain'),\n",
       " (0.008343482396269709, 'hours_per_week'),\n",
       " (0.006691120528424849, 'capital_loss'),\n",
       " (0.005997269145614853, 'race'),\n",
       " (0.005823873806105836, 'relationship'),\n",
       " (0.004522100643588014, 'native_country'),\n",
       " (0.00204366508544866, 'occupation'),\n",
       " (3.71468910452807e-06, 'sex')]"
      ]
     },
     "execution_count": 19,
     "metadata": {},
     "output_type": "execute_result"
    }
   ],
   "source": [
    "featuresPriority"
   ]
  },
  {
   "cell_type": "code",
   "execution_count": 20,
   "metadata": {},
   "outputs": [
    {
     "data": {
      "text/html": [
       "<div>\n",
       "<style scoped>\n",
       "    .dataframe tbody tr th:only-of-type {\n",
       "        vertical-align: middle;\n",
       "    }\n",
       "\n",
       "    .dataframe tbody tr th {\n",
       "        vertical-align: top;\n",
       "    }\n",
       "\n",
       "    .dataframe thead th {\n",
       "        text-align: right;\n",
       "    }\n",
       "</style>\n",
       "<table border=\"1\" class=\"dataframe\">\n",
       "  <thead>\n",
       "    <tr style=\"text-align: right;\">\n",
       "      <th></th>\n",
       "      <th>age</th>\n",
       "      <th>fnlwgt</th>\n",
       "      <th>education_number</th>\n",
       "      <th>capital_gain</th>\n",
       "      <th>capital_loss</th>\n",
       "      <th>hours_per_week</th>\n",
       "      <th>workclass_ ?</th>\n",
       "      <th>workclass_ Federal-gov</th>\n",
       "      <th>workclass_ Local-gov</th>\n",
       "      <th>workclass_ Never-worked</th>\n",
       "      <th>...</th>\n",
       "      <th>native_country_ Portugal</th>\n",
       "      <th>native_country_ Puerto-Rico</th>\n",
       "      <th>native_country_ Scotland</th>\n",
       "      <th>native_country_ South</th>\n",
       "      <th>native_country_ Taiwan</th>\n",
       "      <th>native_country_ Thailand</th>\n",
       "      <th>native_country_ Trinadad&amp;Tobago</th>\n",
       "      <th>native_country_ United-States</th>\n",
       "      <th>native_country_ Vietnam</th>\n",
       "      <th>native_country_ Yugoslavia</th>\n",
       "    </tr>\n",
       "  </thead>\n",
       "  <tbody>\n",
       "    <tr>\n",
       "      <th>0</th>\n",
       "      <td>39</td>\n",
       "      <td>77516</td>\n",
       "      <td>13</td>\n",
       "      <td>2174</td>\n",
       "      <td>0</td>\n",
       "      <td>40</td>\n",
       "      <td>0</td>\n",
       "      <td>0</td>\n",
       "      <td>0</td>\n",
       "      <td>0</td>\n",
       "      <td>...</td>\n",
       "      <td>0</td>\n",
       "      <td>0</td>\n",
       "      <td>0</td>\n",
       "      <td>0</td>\n",
       "      <td>0</td>\n",
       "      <td>0</td>\n",
       "      <td>0</td>\n",
       "      <td>1</td>\n",
       "      <td>0</td>\n",
       "      <td>0</td>\n",
       "    </tr>\n",
       "    <tr>\n",
       "      <th>1</th>\n",
       "      <td>50</td>\n",
       "      <td>83311</td>\n",
       "      <td>13</td>\n",
       "      <td>0</td>\n",
       "      <td>0</td>\n",
       "      <td>13</td>\n",
       "      <td>0</td>\n",
       "      <td>0</td>\n",
       "      <td>0</td>\n",
       "      <td>0</td>\n",
       "      <td>...</td>\n",
       "      <td>0</td>\n",
       "      <td>0</td>\n",
       "      <td>0</td>\n",
       "      <td>0</td>\n",
       "      <td>0</td>\n",
       "      <td>0</td>\n",
       "      <td>0</td>\n",
       "      <td>1</td>\n",
       "      <td>0</td>\n",
       "      <td>0</td>\n",
       "    </tr>\n",
       "    <tr>\n",
       "      <th>2</th>\n",
       "      <td>38</td>\n",
       "      <td>215646</td>\n",
       "      <td>9</td>\n",
       "      <td>0</td>\n",
       "      <td>0</td>\n",
       "      <td>40</td>\n",
       "      <td>0</td>\n",
       "      <td>0</td>\n",
       "      <td>0</td>\n",
       "      <td>0</td>\n",
       "      <td>...</td>\n",
       "      <td>0</td>\n",
       "      <td>0</td>\n",
       "      <td>0</td>\n",
       "      <td>0</td>\n",
       "      <td>0</td>\n",
       "      <td>0</td>\n",
       "      <td>0</td>\n",
       "      <td>1</td>\n",
       "      <td>0</td>\n",
       "      <td>0</td>\n",
       "    </tr>\n",
       "    <tr>\n",
       "      <th>3</th>\n",
       "      <td>53</td>\n",
       "      <td>234721</td>\n",
       "      <td>7</td>\n",
       "      <td>0</td>\n",
       "      <td>0</td>\n",
       "      <td>40</td>\n",
       "      <td>0</td>\n",
       "      <td>0</td>\n",
       "      <td>0</td>\n",
       "      <td>0</td>\n",
       "      <td>...</td>\n",
       "      <td>0</td>\n",
       "      <td>0</td>\n",
       "      <td>0</td>\n",
       "      <td>0</td>\n",
       "      <td>0</td>\n",
       "      <td>0</td>\n",
       "      <td>0</td>\n",
       "      <td>1</td>\n",
       "      <td>0</td>\n",
       "      <td>0</td>\n",
       "    </tr>\n",
       "    <tr>\n",
       "      <th>4</th>\n",
       "      <td>28</td>\n",
       "      <td>338409</td>\n",
       "      <td>13</td>\n",
       "      <td>0</td>\n",
       "      <td>0</td>\n",
       "      <td>40</td>\n",
       "      <td>0</td>\n",
       "      <td>0</td>\n",
       "      <td>0</td>\n",
       "      <td>0</td>\n",
       "      <td>...</td>\n",
       "      <td>0</td>\n",
       "      <td>0</td>\n",
       "      <td>0</td>\n",
       "      <td>0</td>\n",
       "      <td>0</td>\n",
       "      <td>0</td>\n",
       "      <td>0</td>\n",
       "      <td>0</td>\n",
       "      <td>0</td>\n",
       "      <td>0</td>\n",
       "    </tr>\n",
       "    <tr>\n",
       "      <th>...</th>\n",
       "      <td>...</td>\n",
       "      <td>...</td>\n",
       "      <td>...</td>\n",
       "      <td>...</td>\n",
       "      <td>...</td>\n",
       "      <td>...</td>\n",
       "      <td>...</td>\n",
       "      <td>...</td>\n",
       "      <td>...</td>\n",
       "      <td>...</td>\n",
       "      <td>...</td>\n",
       "      <td>...</td>\n",
       "      <td>...</td>\n",
       "      <td>...</td>\n",
       "      <td>...</td>\n",
       "      <td>...</td>\n",
       "      <td>...</td>\n",
       "      <td>...</td>\n",
       "      <td>...</td>\n",
       "      <td>...</td>\n",
       "      <td>...</td>\n",
       "    </tr>\n",
       "    <tr>\n",
       "      <th>32556</th>\n",
       "      <td>27</td>\n",
       "      <td>257302</td>\n",
       "      <td>12</td>\n",
       "      <td>0</td>\n",
       "      <td>0</td>\n",
       "      <td>38</td>\n",
       "      <td>0</td>\n",
       "      <td>0</td>\n",
       "      <td>0</td>\n",
       "      <td>0</td>\n",
       "      <td>...</td>\n",
       "      <td>0</td>\n",
       "      <td>0</td>\n",
       "      <td>0</td>\n",
       "      <td>0</td>\n",
       "      <td>0</td>\n",
       "      <td>0</td>\n",
       "      <td>0</td>\n",
       "      <td>1</td>\n",
       "      <td>0</td>\n",
       "      <td>0</td>\n",
       "    </tr>\n",
       "    <tr>\n",
       "      <th>32557</th>\n",
       "      <td>40</td>\n",
       "      <td>154374</td>\n",
       "      <td>9</td>\n",
       "      <td>0</td>\n",
       "      <td>0</td>\n",
       "      <td>40</td>\n",
       "      <td>0</td>\n",
       "      <td>0</td>\n",
       "      <td>0</td>\n",
       "      <td>0</td>\n",
       "      <td>...</td>\n",
       "      <td>0</td>\n",
       "      <td>0</td>\n",
       "      <td>0</td>\n",
       "      <td>0</td>\n",
       "      <td>0</td>\n",
       "      <td>0</td>\n",
       "      <td>0</td>\n",
       "      <td>1</td>\n",
       "      <td>0</td>\n",
       "      <td>0</td>\n",
       "    </tr>\n",
       "    <tr>\n",
       "      <th>32558</th>\n",
       "      <td>58</td>\n",
       "      <td>151910</td>\n",
       "      <td>9</td>\n",
       "      <td>0</td>\n",
       "      <td>0</td>\n",
       "      <td>40</td>\n",
       "      <td>0</td>\n",
       "      <td>0</td>\n",
       "      <td>0</td>\n",
       "      <td>0</td>\n",
       "      <td>...</td>\n",
       "      <td>0</td>\n",
       "      <td>0</td>\n",
       "      <td>0</td>\n",
       "      <td>0</td>\n",
       "      <td>0</td>\n",
       "      <td>0</td>\n",
       "      <td>0</td>\n",
       "      <td>1</td>\n",
       "      <td>0</td>\n",
       "      <td>0</td>\n",
       "    </tr>\n",
       "    <tr>\n",
       "      <th>32559</th>\n",
       "      <td>22</td>\n",
       "      <td>201490</td>\n",
       "      <td>9</td>\n",
       "      <td>0</td>\n",
       "      <td>0</td>\n",
       "      <td>20</td>\n",
       "      <td>0</td>\n",
       "      <td>0</td>\n",
       "      <td>0</td>\n",
       "      <td>0</td>\n",
       "      <td>...</td>\n",
       "      <td>0</td>\n",
       "      <td>0</td>\n",
       "      <td>0</td>\n",
       "      <td>0</td>\n",
       "      <td>0</td>\n",
       "      <td>0</td>\n",
       "      <td>0</td>\n",
       "      <td>1</td>\n",
       "      <td>0</td>\n",
       "      <td>0</td>\n",
       "    </tr>\n",
       "    <tr>\n",
       "      <th>32560</th>\n",
       "      <td>52</td>\n",
       "      <td>287927</td>\n",
       "      <td>9</td>\n",
       "      <td>15024</td>\n",
       "      <td>0</td>\n",
       "      <td>40</td>\n",
       "      <td>0</td>\n",
       "      <td>0</td>\n",
       "      <td>0</td>\n",
       "      <td>0</td>\n",
       "      <td>...</td>\n",
       "      <td>0</td>\n",
       "      <td>0</td>\n",
       "      <td>0</td>\n",
       "      <td>0</td>\n",
       "      <td>0</td>\n",
       "      <td>0</td>\n",
       "      <td>0</td>\n",
       "      <td>1</td>\n",
       "      <td>0</td>\n",
       "      <td>0</td>\n",
       "    </tr>\n",
       "  </tbody>\n",
       "</table>\n",
       "<p>32561 rows × 108 columns</p>\n",
       "</div>"
      ],
      "text/plain": [
       "       age  fnlwgt  education_number  capital_gain  capital_loss  \\\n",
       "0       39   77516                13          2174             0   \n",
       "1       50   83311                13             0             0   \n",
       "2       38  215646                 9             0             0   \n",
       "3       53  234721                 7             0             0   \n",
       "4       28  338409                13             0             0   \n",
       "...    ...     ...               ...           ...           ...   \n",
       "32556   27  257302                12             0             0   \n",
       "32557   40  154374                 9             0             0   \n",
       "32558   58  151910                 9             0             0   \n",
       "32559   22  201490                 9             0             0   \n",
       "32560   52  287927                 9         15024             0   \n",
       "\n",
       "       hours_per_week  workclass_ ?  workclass_ Federal-gov  \\\n",
       "0                  40             0                       0   \n",
       "1                  13             0                       0   \n",
       "2                  40             0                       0   \n",
       "3                  40             0                       0   \n",
       "4                  40             0                       0   \n",
       "...               ...           ...                     ...   \n",
       "32556              38             0                       0   \n",
       "32557              40             0                       0   \n",
       "32558              40             0                       0   \n",
       "32559              20             0                       0   \n",
       "32560              40             0                       0   \n",
       "\n",
       "       workclass_ Local-gov  workclass_ Never-worked  ...  \\\n",
       "0                         0                        0  ...   \n",
       "1                         0                        0  ...   \n",
       "2                         0                        0  ...   \n",
       "3                         0                        0  ...   \n",
       "4                         0                        0  ...   \n",
       "...                     ...                      ...  ...   \n",
       "32556                     0                        0  ...   \n",
       "32557                     0                        0  ...   \n",
       "32558                     0                        0  ...   \n",
       "32559                     0                        0  ...   \n",
       "32560                     0                        0  ...   \n",
       "\n",
       "       native_country_ Portugal  native_country_ Puerto-Rico  \\\n",
       "0                             0                            0   \n",
       "1                             0                            0   \n",
       "2                             0                            0   \n",
       "3                             0                            0   \n",
       "4                             0                            0   \n",
       "...                         ...                          ...   \n",
       "32556                         0                            0   \n",
       "32557                         0                            0   \n",
       "32558                         0                            0   \n",
       "32559                         0                            0   \n",
       "32560                         0                            0   \n",
       "\n",
       "       native_country_ Scotland  native_country_ South  \\\n",
       "0                             0                      0   \n",
       "1                             0                      0   \n",
       "2                             0                      0   \n",
       "3                             0                      0   \n",
       "4                             0                      0   \n",
       "...                         ...                    ...   \n",
       "32556                         0                      0   \n",
       "32557                         0                      0   \n",
       "32558                         0                      0   \n",
       "32559                         0                      0   \n",
       "32560                         0                      0   \n",
       "\n",
       "       native_country_ Taiwan  native_country_ Thailand  \\\n",
       "0                           0                         0   \n",
       "1                           0                         0   \n",
       "2                           0                         0   \n",
       "3                           0                         0   \n",
       "4                           0                         0   \n",
       "...                       ...                       ...   \n",
       "32556                       0                         0   \n",
       "32557                       0                         0   \n",
       "32558                       0                         0   \n",
       "32559                       0                         0   \n",
       "32560                       0                         0   \n",
       "\n",
       "       native_country_ Trinadad&Tobago  native_country_ United-States  \\\n",
       "0                                    0                              1   \n",
       "1                                    0                              1   \n",
       "2                                    0                              1   \n",
       "3                                    0                              1   \n",
       "4                                    0                              0   \n",
       "...                                ...                            ...   \n",
       "32556                                0                              1   \n",
       "32557                                0                              1   \n",
       "32558                                0                              1   \n",
       "32559                                0                              1   \n",
       "32560                                0                              1   \n",
       "\n",
       "       native_country_ Vietnam  native_country_ Yugoslavia  \n",
       "0                            0                           0  \n",
       "1                            0                           0  \n",
       "2                            0                           0  \n",
       "3                            0                           0  \n",
       "4                            0                           0  \n",
       "...                        ...                         ...  \n",
       "32556                        0                           0  \n",
       "32557                        0                           0  \n",
       "32558                        0                           0  \n",
       "32559                        0                           0  \n",
       "32560                        0                           0  \n",
       "\n",
       "[32561 rows x 108 columns]"
      ]
     },
     "execution_count": 20,
     "metadata": {},
     "output_type": "execute_result"
    }
   ],
   "source": [
    "data_binary_encoded"
   ]
  },
  {
   "cell_type": "code",
   "execution_count": 21,
   "metadata": {},
   "outputs": [],
   "source": [
    "data_df = data_df.drop([\"occupation\",\"sex\",\"native_country\",\"relationship\"], axis=1)"
   ]
  },
  {
   "cell_type": "code",
   "execution_count": 22,
   "metadata": {},
   "outputs": [
    {
     "data": {
      "text/html": [
       "<div>\n",
       "<style scoped>\n",
       "    .dataframe tbody tr th:only-of-type {\n",
       "        vertical-align: middle;\n",
       "    }\n",
       "\n",
       "    .dataframe tbody tr th {\n",
       "        vertical-align: top;\n",
       "    }\n",
       "\n",
       "    .dataframe thead th {\n",
       "        text-align: right;\n",
       "    }\n",
       "</style>\n",
       "<table border=\"1\" class=\"dataframe\">\n",
       "  <thead>\n",
       "    <tr style=\"text-align: right;\">\n",
       "      <th></th>\n",
       "      <th>age</th>\n",
       "      <th>fnlwgt</th>\n",
       "      <th>education_number</th>\n",
       "      <th>capital_gain</th>\n",
       "      <th>capital_loss</th>\n",
       "      <th>hours_per_week</th>\n",
       "      <th>workclass_ ?</th>\n",
       "      <th>workclass_ Federal-gov</th>\n",
       "      <th>workclass_ Local-gov</th>\n",
       "      <th>workclass_ Never-worked</th>\n",
       "      <th>...</th>\n",
       "      <th>marital_status_ Married-civ-spouse</th>\n",
       "      <th>marital_status_ Married-spouse-absent</th>\n",
       "      <th>marital_status_ Never-married</th>\n",
       "      <th>marital_status_ Separated</th>\n",
       "      <th>marital_status_ Widowed</th>\n",
       "      <th>race_ Amer-Indian-Eskimo</th>\n",
       "      <th>race_ Asian-Pac-Islander</th>\n",
       "      <th>race_ Black</th>\n",
       "      <th>race_ Other</th>\n",
       "      <th>race_ White</th>\n",
       "    </tr>\n",
       "  </thead>\n",
       "  <tbody>\n",
       "    <tr>\n",
       "      <th>0</th>\n",
       "      <td>39</td>\n",
       "      <td>77516</td>\n",
       "      <td>13</td>\n",
       "      <td>2174</td>\n",
       "      <td>0</td>\n",
       "      <td>40</td>\n",
       "      <td>0</td>\n",
       "      <td>0</td>\n",
       "      <td>0</td>\n",
       "      <td>0</td>\n",
       "      <td>...</td>\n",
       "      <td>0</td>\n",
       "      <td>0</td>\n",
       "      <td>1</td>\n",
       "      <td>0</td>\n",
       "      <td>0</td>\n",
       "      <td>0</td>\n",
       "      <td>0</td>\n",
       "      <td>0</td>\n",
       "      <td>0</td>\n",
       "      <td>1</td>\n",
       "    </tr>\n",
       "    <tr>\n",
       "      <th>1</th>\n",
       "      <td>50</td>\n",
       "      <td>83311</td>\n",
       "      <td>13</td>\n",
       "      <td>0</td>\n",
       "      <td>0</td>\n",
       "      <td>13</td>\n",
       "      <td>0</td>\n",
       "      <td>0</td>\n",
       "      <td>0</td>\n",
       "      <td>0</td>\n",
       "      <td>...</td>\n",
       "      <td>1</td>\n",
       "      <td>0</td>\n",
       "      <td>0</td>\n",
       "      <td>0</td>\n",
       "      <td>0</td>\n",
       "      <td>0</td>\n",
       "      <td>0</td>\n",
       "      <td>0</td>\n",
       "      <td>0</td>\n",
       "      <td>1</td>\n",
       "    </tr>\n",
       "    <tr>\n",
       "      <th>2</th>\n",
       "      <td>38</td>\n",
       "      <td>215646</td>\n",
       "      <td>9</td>\n",
       "      <td>0</td>\n",
       "      <td>0</td>\n",
       "      <td>40</td>\n",
       "      <td>0</td>\n",
       "      <td>0</td>\n",
       "      <td>0</td>\n",
       "      <td>0</td>\n",
       "      <td>...</td>\n",
       "      <td>0</td>\n",
       "      <td>0</td>\n",
       "      <td>0</td>\n",
       "      <td>0</td>\n",
       "      <td>0</td>\n",
       "      <td>0</td>\n",
       "      <td>0</td>\n",
       "      <td>0</td>\n",
       "      <td>0</td>\n",
       "      <td>1</td>\n",
       "    </tr>\n",
       "    <tr>\n",
       "      <th>3</th>\n",
       "      <td>53</td>\n",
       "      <td>234721</td>\n",
       "      <td>7</td>\n",
       "      <td>0</td>\n",
       "      <td>0</td>\n",
       "      <td>40</td>\n",
       "      <td>0</td>\n",
       "      <td>0</td>\n",
       "      <td>0</td>\n",
       "      <td>0</td>\n",
       "      <td>...</td>\n",
       "      <td>1</td>\n",
       "      <td>0</td>\n",
       "      <td>0</td>\n",
       "      <td>0</td>\n",
       "      <td>0</td>\n",
       "      <td>0</td>\n",
       "      <td>0</td>\n",
       "      <td>1</td>\n",
       "      <td>0</td>\n",
       "      <td>0</td>\n",
       "    </tr>\n",
       "    <tr>\n",
       "      <th>4</th>\n",
       "      <td>28</td>\n",
       "      <td>338409</td>\n",
       "      <td>13</td>\n",
       "      <td>0</td>\n",
       "      <td>0</td>\n",
       "      <td>40</td>\n",
       "      <td>0</td>\n",
       "      <td>0</td>\n",
       "      <td>0</td>\n",
       "      <td>0</td>\n",
       "      <td>...</td>\n",
       "      <td>1</td>\n",
       "      <td>0</td>\n",
       "      <td>0</td>\n",
       "      <td>0</td>\n",
       "      <td>0</td>\n",
       "      <td>0</td>\n",
       "      <td>0</td>\n",
       "      <td>1</td>\n",
       "      <td>0</td>\n",
       "      <td>0</td>\n",
       "    </tr>\n",
       "  </tbody>\n",
       "</table>\n",
       "<p>5 rows × 43 columns</p>\n",
       "</div>"
      ],
      "text/plain": [
       "   age  fnlwgt  education_number  capital_gain  capital_loss  hours_per_week  \\\n",
       "0   39   77516                13          2174             0              40   \n",
       "1   50   83311                13             0             0              13   \n",
       "2   38  215646                 9             0             0              40   \n",
       "3   53  234721                 7             0             0              40   \n",
       "4   28  338409                13             0             0              40   \n",
       "\n",
       "   workclass_ ?  workclass_ Federal-gov  workclass_ Local-gov  \\\n",
       "0             0                       0                     0   \n",
       "1             0                       0                     0   \n",
       "2             0                       0                     0   \n",
       "3             0                       0                     0   \n",
       "4             0                       0                     0   \n",
       "\n",
       "   workclass_ Never-worked  ...  marital_status_ Married-civ-spouse  \\\n",
       "0                        0  ...                                   0   \n",
       "1                        0  ...                                   1   \n",
       "2                        0  ...                                   0   \n",
       "3                        0  ...                                   1   \n",
       "4                        0  ...                                   1   \n",
       "\n",
       "   marital_status_ Married-spouse-absent  marital_status_ Never-married  \\\n",
       "0                                      0                              1   \n",
       "1                                      0                              0   \n",
       "2                                      0                              0   \n",
       "3                                      0                              0   \n",
       "4                                      0                              0   \n",
       "\n",
       "   marital_status_ Separated  marital_status_ Widowed  \\\n",
       "0                          0                        0   \n",
       "1                          0                        0   \n",
       "2                          0                        0   \n",
       "3                          0                        0   \n",
       "4                          0                        0   \n",
       "\n",
       "   race_ Amer-Indian-Eskimo  race_ Asian-Pac-Islander  race_ Black  \\\n",
       "0                         0                         0            0   \n",
       "1                         0                         0            0   \n",
       "2                         0                         0            0   \n",
       "3                         0                         0            1   \n",
       "4                         0                         0            1   \n",
       "\n",
       "   race_ Other  race_ White  \n",
       "0            0            1  \n",
       "1            0            1  \n",
       "2            0            1  \n",
       "3            0            0  \n",
       "4            0            0  \n",
       "\n",
       "[5 rows x 43 columns]"
      ]
     },
     "execution_count": 22,
     "metadata": {},
     "output_type": "execute_result"
    }
   ],
   "source": [
    "data_binary_encoded_2 = pd.get_dummies(data_df)\n",
    "data_binary_encoded_2.head()"
   ]
  },
  {
   "cell_type": "code",
   "execution_count": 23,
   "metadata": {},
   "outputs": [
    {
     "data": {
      "text/plain": [
       "' <=50K'"
      ]
     },
     "execution_count": 23,
     "metadata": {},
     "output_type": "execute_result"
    }
   ],
   "source": [
    "#import train_test_Split\n",
    "from sklearn.model_selection import train_test_split\n",
    "X_train, X_test, y_train, y_test = train_test_split(data_binary_encoded_2, target, random_state=42)\n",
    "y_train[0]"
   ]
  },
  {
   "cell_type": "code",
   "execution_count": 24,
   "metadata": {},
   "outputs": [
    {
     "data": {
      "text/plain": [
       "0.8487900749293699"
      ]
     },
     "execution_count": 24,
     "metadata": {},
     "output_type": "execute_result"
    }
   ],
   "source": [
    "#import the RandomForestClassifier\n",
    "from sklearn.ensemble import RandomForestClassifier\n",
    "rf = RandomForestClassifier(n_estimators=200)\n",
    "rf = rf.fit(X_train, y_train)\n",
    "rf.score(X_test, y_test)\n"
   ]
  },
  {
   "cell_type": "markdown",
   "metadata": {},
   "source": [
    "## Neural Network Model"
   ]
  },
  {
   "cell_type": "code",
   "execution_count": 25,
   "metadata": {},
   "outputs": [],
   "source": [
    "# Set the seed value for the notebook so the results are reproducible\n",
    "from numpy.random import seed\n",
    "seed(42)"
   ]
  },
  {
   "cell_type": "code",
   "execution_count": 26,
   "metadata": {},
   "outputs": [],
   "source": [
    "# Generate some fake data with 3 features\n",
    "\n",
    " from sklearn.datasets import make_classification\n",
    "\n",
    "# X, y = data_binary_encoded                         \n",
    "\n",
    "# y = y.reshape(-1, 1)\n",
    "\n",
    "# print(X.shape)\n",
    "# print(y.shape)"
   ]
  },
  {
   "cell_type": "code",
   "execution_count": 27,
   "metadata": {},
   "outputs": [
    {
     "data": {
      "text/plain": [
       "['age',\n",
       " 'fnlwgt',\n",
       " 'education_number',\n",
       " 'capital_gain',\n",
       " 'capital_loss',\n",
       " 'hours_per_week',\n",
       " 'workclass_ ?',\n",
       " 'workclass_ Federal-gov',\n",
       " 'workclass_ Local-gov',\n",
       " 'workclass_ Never-worked',\n",
       " 'workclass_ Private',\n",
       " 'workclass_ Self-emp-inc',\n",
       " 'workclass_ Self-emp-not-inc',\n",
       " 'workclass_ State-gov',\n",
       " 'workclass_ Without-pay',\n",
       " 'education_ 10th',\n",
       " 'education_ 11th',\n",
       " 'education_ 12th',\n",
       " 'education_ 1st-4th',\n",
       " 'education_ 5th-6th',\n",
       " 'education_ 7th-8th',\n",
       " 'education_ 9th',\n",
       " 'education_ Assoc-acdm',\n",
       " 'education_ Assoc-voc',\n",
       " 'education_ Bachelors',\n",
       " 'education_ Doctorate',\n",
       " 'education_ HS-grad',\n",
       " 'education_ Masters',\n",
       " 'education_ Preschool',\n",
       " 'education_ Prof-school',\n",
       " 'education_ Some-college',\n",
       " 'marital_status_ Divorced',\n",
       " 'marital_status_ Married-AF-spouse',\n",
       " 'marital_status_ Married-civ-spouse',\n",
       " 'marital_status_ Married-spouse-absent',\n",
       " 'marital_status_ Never-married',\n",
       " 'marital_status_ Separated',\n",
       " 'marital_status_ Widowed',\n",
       " 'occupation_ ?',\n",
       " 'occupation_ Adm-clerical',\n",
       " 'occupation_ Armed-Forces',\n",
       " 'occupation_ Craft-repair',\n",
       " 'occupation_ Exec-managerial',\n",
       " 'occupation_ Farming-fishing',\n",
       " 'occupation_ Handlers-cleaners',\n",
       " 'occupation_ Machine-op-inspct',\n",
       " 'occupation_ Other-service',\n",
       " 'occupation_ Priv-house-serv',\n",
       " 'occupation_ Prof-specialty',\n",
       " 'occupation_ Protective-serv',\n",
       " 'occupation_ Sales',\n",
       " 'occupation_ Tech-support',\n",
       " 'occupation_ Transport-moving',\n",
       " 'relationship_ Husband',\n",
       " 'relationship_ Not-in-family',\n",
       " 'relationship_ Other-relative',\n",
       " 'relationship_ Own-child',\n",
       " 'relationship_ Unmarried',\n",
       " 'relationship_ Wife',\n",
       " 'race_ Amer-Indian-Eskimo',\n",
       " 'race_ Asian-Pac-Islander',\n",
       " 'race_ Black',\n",
       " 'race_ Other',\n",
       " 'race_ White',\n",
       " 'sex_ Female',\n",
       " 'sex_ Male',\n",
       " 'native_country_ ?',\n",
       " 'native_country_ Cambodia',\n",
       " 'native_country_ Canada',\n",
       " 'native_country_ China',\n",
       " 'native_country_ Columbia',\n",
       " 'native_country_ Cuba',\n",
       " 'native_country_ Dominican-Republic',\n",
       " 'native_country_ Ecuador',\n",
       " 'native_country_ El-Salvador',\n",
       " 'native_country_ England',\n",
       " 'native_country_ France',\n",
       " 'native_country_ Germany',\n",
       " 'native_country_ Greece',\n",
       " 'native_country_ Guatemala',\n",
       " 'native_country_ Haiti',\n",
       " 'native_country_ Holand-Netherlands',\n",
       " 'native_country_ Honduras',\n",
       " 'native_country_ Hong',\n",
       " 'native_country_ Hungary',\n",
       " 'native_country_ India',\n",
       " 'native_country_ Iran',\n",
       " 'native_country_ Ireland',\n",
       " 'native_country_ Italy',\n",
       " 'native_country_ Jamaica',\n",
       " 'native_country_ Japan',\n",
       " 'native_country_ Laos',\n",
       " 'native_country_ Mexico',\n",
       " 'native_country_ Nicaragua',\n",
       " 'native_country_ Outlying-US(Guam-USVI-etc)',\n",
       " 'native_country_ Peru',\n",
       " 'native_country_ Philippines',\n",
       " 'native_country_ Poland',\n",
       " 'native_country_ Portugal',\n",
       " 'native_country_ Puerto-Rico',\n",
       " 'native_country_ Scotland',\n",
       " 'native_country_ South',\n",
       " 'native_country_ Taiwan',\n",
       " 'native_country_ Thailand',\n",
       " 'native_country_ Trinadad&Tobago',\n",
       " 'native_country_ United-States',\n",
       " 'native_country_ Vietnam',\n",
       " 'native_country_ Yugoslavia']"
      ]
     },
     "execution_count": 27,
     "metadata": {},
     "output_type": "execute_result"
    }
   ],
   "source": [
    "#import train_test_Split\n",
    "from sklearn.model_selection import train_test_split\n",
    "X_train, X_test, y_train, y_test = train_test_split(data_binary_encoded, target, random_state=42)\n",
    "X_train.columns.to_list()\n"
   ]
  },
  {
   "cell_type": "code",
   "execution_count": 28,
   "metadata": {},
   "outputs": [
    {
     "name": "stderr",
     "output_type": "stream",
     "text": [
      "C:\\Users\\16517\\.conda\\envs\\PythonData\\lib\\site-packages\\tensorflow\\python\\framework\\dtypes.py:516: FutureWarning:\n",
      "\n",
      "Passing (type, 1) or '1type' as a synonym of type is deprecated; in a future version of numpy, it will be understood as (type, (1,)) / '(1,)type'.\n",
      "\n",
      "C:\\Users\\16517\\.conda\\envs\\PythonData\\lib\\site-packages\\tensorflow\\python\\framework\\dtypes.py:517: FutureWarning:\n",
      "\n",
      "Passing (type, 1) or '1type' as a synonym of type is deprecated; in a future version of numpy, it will be understood as (type, (1,)) / '(1,)type'.\n",
      "\n",
      "C:\\Users\\16517\\.conda\\envs\\PythonData\\lib\\site-packages\\tensorflow\\python\\framework\\dtypes.py:518: FutureWarning:\n",
      "\n",
      "Passing (type, 1) or '1type' as a synonym of type is deprecated; in a future version of numpy, it will be understood as (type, (1,)) / '(1,)type'.\n",
      "\n",
      "C:\\Users\\16517\\.conda\\envs\\PythonData\\lib\\site-packages\\tensorflow\\python\\framework\\dtypes.py:519: FutureWarning:\n",
      "\n",
      "Passing (type, 1) or '1type' as a synonym of type is deprecated; in a future version of numpy, it will be understood as (type, (1,)) / '(1,)type'.\n",
      "\n",
      "C:\\Users\\16517\\.conda\\envs\\PythonData\\lib\\site-packages\\tensorflow\\python\\framework\\dtypes.py:520: FutureWarning:\n",
      "\n",
      "Passing (type, 1) or '1type' as a synonym of type is deprecated; in a future version of numpy, it will be understood as (type, (1,)) / '(1,)type'.\n",
      "\n",
      "C:\\Users\\16517\\.conda\\envs\\PythonData\\lib\\site-packages\\tensorflow\\python\\framework\\dtypes.py:525: FutureWarning:\n",
      "\n",
      "Passing (type, 1) or '1type' as a synonym of type is deprecated; in a future version of numpy, it will be understood as (type, (1,)) / '(1,)type'.\n",
      "\n",
      "C:\\Users\\16517\\.conda\\envs\\PythonData\\lib\\site-packages\\tensorboard\\compat\\tensorflow_stub\\dtypes.py:541: FutureWarning:\n",
      "\n",
      "Passing (type, 1) or '1type' as a synonym of type is deprecated; in a future version of numpy, it will be understood as (type, (1,)) / '(1,)type'.\n",
      "\n",
      "C:\\Users\\16517\\.conda\\envs\\PythonData\\lib\\site-packages\\tensorboard\\compat\\tensorflow_stub\\dtypes.py:542: FutureWarning:\n",
      "\n",
      "Passing (type, 1) or '1type' as a synonym of type is deprecated; in a future version of numpy, it will be understood as (type, (1,)) / '(1,)type'.\n",
      "\n",
      "C:\\Users\\16517\\.conda\\envs\\PythonData\\lib\\site-packages\\tensorboard\\compat\\tensorflow_stub\\dtypes.py:543: FutureWarning:\n",
      "\n",
      "Passing (type, 1) or '1type' as a synonym of type is deprecated; in a future version of numpy, it will be understood as (type, (1,)) / '(1,)type'.\n",
      "\n",
      "C:\\Users\\16517\\.conda\\envs\\PythonData\\lib\\site-packages\\tensorboard\\compat\\tensorflow_stub\\dtypes.py:544: FutureWarning:\n",
      "\n",
      "Passing (type, 1) or '1type' as a synonym of type is deprecated; in a future version of numpy, it will be understood as (type, (1,)) / '(1,)type'.\n",
      "\n",
      "C:\\Users\\16517\\.conda\\envs\\PythonData\\lib\\site-packages\\tensorboard\\compat\\tensorflow_stub\\dtypes.py:545: FutureWarning:\n",
      "\n",
      "Passing (type, 1) or '1type' as a synonym of type is deprecated; in a future version of numpy, it will be understood as (type, (1,)) / '(1,)type'.\n",
      "\n",
      "C:\\Users\\16517\\.conda\\envs\\PythonData\\lib\\site-packages\\tensorboard\\compat\\tensorflow_stub\\dtypes.py:550: FutureWarning:\n",
      "\n",
      "Passing (type, 1) or '1type' as a synonym of type is deprecated; in a future version of numpy, it will be understood as (type, (1,)) / '(1,)type'.\n",
      "\n"
     ]
    }
   ],
   "source": [
    "from sklearn.preprocessing import LabelEncoder\n",
    "from tensorflow.keras.utils import to_categorical\n",
    "# Step #1 label-encode the dataset\n",
    "label_encoder = LabelEncoder()\n",
    "label_encoder.fit(y_train)\n",
    "y_train_encoded = label_encoder.transform(y_train)\n",
    "y_test_encoded = label_encoder.transform(y_test)\n"
   ]
  },
  {
   "cell_type": "code",
   "execution_count": 29,
   "metadata": {},
   "outputs": [],
   "source": [
    "# Step 2: Convert encoded labels to one-hot-encoding\n",
    "y_train_categorical = to_categorical(y_train_encoded)\n",
    "y_test_categorical = to_categorical(y_test_encoded)"
   ]
  },
  {
   "cell_type": "code",
   "execution_count": 30,
   "metadata": {},
   "outputs": [],
   "source": [
    "from sklearn.preprocessing import StandardScaler\n",
    "\n",
    "X_scaler = StandardScaler().fit(X_train)"
   ]
  },
  {
   "cell_type": "code",
   "execution_count": 31,
   "metadata": {},
   "outputs": [],
   "source": [
    "X_train_scaled = X_scaler.transform(X_train)\n",
    "X_test_scaled = X_scaler.transform(X_test)\n"
   ]
  },
  {
   "cell_type": "code",
   "execution_count": 32,
   "metadata": {},
   "outputs": [
    {
     "data": {
      "text/plain": [
       "108"
      ]
     },
     "execution_count": 32,
     "metadata": {},
     "output_type": "execute_result"
    }
   ],
   "source": [
    "X_train_scaled.shape[1]"
   ]
  },
  {
   "cell_type": "code",
   "execution_count": 33,
   "metadata": {},
   "outputs": [],
   "source": [
    "#data_binary_encoded"
   ]
  },
  {
   "cell_type": "code",
   "execution_count": 34,
   "metadata": {},
   "outputs": [],
   "source": [
    "from tensorflow.keras.models import Sequential\n",
    "\n",
    "model = Sequential()"
   ]
  },
  {
   "cell_type": "code",
   "execution_count": 35,
   "metadata": {},
   "outputs": [
    {
     "name": "stdout",
     "output_type": "stream",
     "text": [
      "WARNING:tensorflow:From C:\\Users\\16517\\.conda\\envs\\PythonData\\lib\\site-packages\\tensorflow\\python\\ops\\init_ops.py:1251: calling VarianceScaling.__init__ (from tensorflow.python.ops.init_ops) with dtype is deprecated and will be removed in a future version.\n",
      "Instructions for updating:\n",
      "Call initializer instance with the dtype argument instead of passing it to the constructor\n"
     ]
    }
   ],
   "source": [
    "from tensorflow.keras.layers import Dense\n",
    "number_inputs = X_train_scaled.shape[1]\n",
    "number_hidden_nodes = 4\n",
    "model.add(Dense(units=number_hidden_nodes,\n",
    "                activation='relu', input_dim=number_inputs))"
   ]
  },
  {
   "cell_type": "code",
   "execution_count": 36,
   "metadata": {},
   "outputs": [
    {
     "data": {
      "text/plain": [
       "2"
      ]
     },
     "execution_count": 36,
     "metadata": {},
     "output_type": "execute_result"
    }
   ],
   "source": [
    " y_train_categorical.shape[1]\n",
    "    "
   ]
  },
  {
   "cell_type": "code",
   "execution_count": 37,
   "metadata": {},
   "outputs": [
    {
     "data": {
      "text/plain": [
       "array([[ 0.76270329,  0.03505025, -0.42318329, ...,  0.3446706 ,\n",
       "        -0.04921284, -0.022173  ],\n",
       "       [-0.85041534, -0.52773408, -0.42318329, ...,  0.3446706 ,\n",
       "        -0.04921284, -0.022173  ],\n",
       "       [ 0.39608542, -0.18721601, -1.20001078, ...,  0.3446706 ,\n",
       "        -0.04921284, -0.022173  ],\n",
       "       ...,\n",
       "       [-1.51032751,  0.25286853, -1.20001078, ...,  0.3446706 ,\n",
       "        -0.04921284, -0.022173  ],\n",
       "       [ 0.83602687, -1.28703767, -0.42318329, ...,  0.3446706 ,\n",
       "        -0.04921284, -0.022173  ],\n",
       "       [-0.33715032, -0.58952117,  1.13047168, ...,  0.3446706 ,\n",
       "        -0.04921284, -0.022173  ]])"
      ]
     },
     "execution_count": 37,
     "metadata": {},
     "output_type": "execute_result"
    }
   ],
   "source": [
    "X_train_scaled"
   ]
  },
  {
   "cell_type": "code",
   "execution_count": 38,
   "metadata": {},
   "outputs": [],
   "source": [
    "number_classes =  y_train_categorical.shape[1]\n",
    "model.add(Dense(units=number_classes, activation='softmax'))"
   ]
  },
  {
   "cell_type": "code",
   "execution_count": 39,
   "metadata": {},
   "outputs": [
    {
     "name": "stdout",
     "output_type": "stream",
     "text": [
      "Model: \"sequential\"\n",
      "_________________________________________________________________\n",
      "Layer (type)                 Output Shape              Param #   \n",
      "=================================================================\n",
      "dense (Dense)                (None, 4)                 436       \n",
      "_________________________________________________________________\n",
      "dense_1 (Dense)              (None, 2)                 10        \n",
      "=================================================================\n",
      "Total params: 446\n",
      "Trainable params: 446\n",
      "Non-trainable params: 0\n",
      "_________________________________________________________________\n"
     ]
    }
   ],
   "source": [
    "model.summary()"
   ]
  },
  {
   "cell_type": "code",
   "execution_count": 40,
   "metadata": {},
   "outputs": [],
   "source": [
    "# Use categorical crossentropy for categorical data and mean squared error for regression\n",
    "# Hint: your output layer in this example is using software for logistic regression (categorical)\n",
    "# If your output layer activation was `linear` then you may want to use `mse` for loss\n",
    "model.compile(optimizer='adam',\n",
    "              loss='categorical_crossentropy',\n",
    "              metrics=['accuracy'])"
   ]
  },
  {
   "cell_type": "code",
   "execution_count": 41,
   "metadata": {},
   "outputs": [
    {
     "name": "stdout",
     "output_type": "stream",
     "text": [
      "Epoch 1/100\n",
      "24420/24420 - 2s - loss: 0.5048 - acc: 0.7647\n",
      "Epoch 2/100\n",
      "24420/24420 - 2s - loss: 0.3450 - acc: 0.8398\n",
      "Epoch 3/100\n",
      "24420/24420 - 2s - loss: 0.3290 - acc: 0.8472\n",
      "Epoch 4/100\n",
      "24420/24420 - 2s - loss: 0.3225 - acc: 0.8508\n",
      "Epoch 5/100\n",
      "24420/24420 - 2s - loss: 0.3194 - acc: 0.8507\n",
      "Epoch 6/100\n",
      "24420/24420 - 2s - loss: 0.3176 - acc: 0.8512\n",
      "Epoch 7/100\n",
      "24420/24420 - 2s - loss: 0.3162 - acc: 0.8511\n",
      "Epoch 8/100\n",
      "24420/24420 - 2s - loss: 0.3152 - acc: 0.8508\n",
      "Epoch 9/100\n",
      "24420/24420 - 2s - loss: 0.3146 - acc: 0.8520\n",
      "Epoch 10/100\n",
      "24420/24420 - 2s - loss: 0.3139 - acc: 0.8523\n",
      "Epoch 11/100\n",
      "24420/24420 - 2s - loss: 0.3133 - acc: 0.8530\n",
      "Epoch 12/100\n",
      "24420/24420 - 2s - loss: 0.3130 - acc: 0.8524\n",
      "Epoch 13/100\n",
      "24420/24420 - 2s - loss: 0.3127 - acc: 0.8534\n",
      "Epoch 14/100\n",
      "24420/24420 - 2s - loss: 0.3123 - acc: 0.8541\n",
      "Epoch 15/100\n",
      "24420/24420 - 2s - loss: 0.3120 - acc: 0.8536\n",
      "Epoch 16/100\n",
      "24420/24420 - 2s - loss: 0.3116 - acc: 0.8537\n",
      "Epoch 17/100\n",
      "24420/24420 - 2s - loss: 0.3113 - acc: 0.8539\n",
      "Epoch 18/100\n",
      "24420/24420 - 2s - loss: 0.3108 - acc: 0.8537\n",
      "Epoch 19/100\n",
      "24420/24420 - 2s - loss: 0.3107 - acc: 0.8541\n",
      "Epoch 20/100\n",
      "24420/24420 - 2s - loss: 0.3104 - acc: 0.8532\n",
      "Epoch 21/100\n",
      "24420/24420 - 2s - loss: 0.3103 - acc: 0.8555\n",
      "Epoch 22/100\n",
      "24420/24420 - 2s - loss: 0.3099 - acc: 0.8547\n",
      "Epoch 23/100\n",
      "24420/24420 - 2s - loss: 0.3096 - acc: 0.8535\n",
      "Epoch 24/100\n",
      "24420/24420 - 2s - loss: 0.3096 - acc: 0.8535\n",
      "Epoch 25/100\n",
      "24420/24420 - 2s - loss: 0.3090 - acc: 0.8551\n",
      "Epoch 26/100\n",
      "24420/24420 - 2s - loss: 0.3091 - acc: 0.8556\n",
      "Epoch 27/100\n",
      "24420/24420 - 2s - loss: 0.3088 - acc: 0.8542\n",
      "Epoch 28/100\n",
      "24420/24420 - 2s - loss: 0.3087 - acc: 0.8554\n",
      "Epoch 29/100\n",
      "24420/24420 - 2s - loss: 0.3086 - acc: 0.8543\n",
      "Epoch 30/100\n",
      "24420/24420 - 2s - loss: 0.3084 - acc: 0.8561\n",
      "Epoch 31/100\n",
      "24420/24420 - 2s - loss: 0.3083 - acc: 0.8558\n",
      "Epoch 32/100\n",
      "24420/24420 - 2s - loss: 0.3082 - acc: 0.8547\n",
      "Epoch 33/100\n",
      "24420/24420 - 2s - loss: 0.3081 - acc: 0.8548\n",
      "Epoch 34/100\n",
      "24420/24420 - 2s - loss: 0.3079 - acc: 0.8548\n",
      "Epoch 35/100\n",
      "24420/24420 - 2s - loss: 0.3081 - acc: 0.8546\n",
      "Epoch 36/100\n",
      "24420/24420 - 2s - loss: 0.3079 - acc: 0.8546\n",
      "Epoch 37/100\n",
      "24420/24420 - 2s - loss: 0.3079 - acc: 0.8544\n",
      "Epoch 38/100\n",
      "24420/24420 - 2s - loss: 0.3078 - acc: 0.8550\n",
      "Epoch 39/100\n",
      "24420/24420 - 2s - loss: 0.3078 - acc: 0.8557\n",
      "Epoch 40/100\n",
      "24420/24420 - 2s - loss: 0.3077 - acc: 0.8548\n",
      "Epoch 41/100\n",
      "24420/24420 - 2s - loss: 0.3076 - acc: 0.8550\n",
      "Epoch 42/100\n",
      "24420/24420 - 2s - loss: 0.3075 - acc: 0.8548\n",
      "Epoch 43/100\n",
      "24420/24420 - 2s - loss: 0.3075 - acc: 0.8554\n",
      "Epoch 44/100\n",
      "24420/24420 - 2s - loss: 0.3075 - acc: 0.8548\n",
      "Epoch 45/100\n",
      "24420/24420 - 2s - loss: 0.3073 - acc: 0.8564\n",
      "Epoch 46/100\n",
      "24420/24420 - 2s - loss: 0.3074 - acc: 0.8551\n",
      "Epoch 47/100\n",
      "24420/24420 - 2s - loss: 0.3073 - acc: 0.8548\n",
      "Epoch 48/100\n",
      "24420/24420 - 2s - loss: 0.3072 - acc: 0.8547\n",
      "Epoch 49/100\n",
      "24420/24420 - 2s - loss: 0.3072 - acc: 0.8548\n",
      "Epoch 50/100\n",
      "24420/24420 - 2s - loss: 0.3070 - acc: 0.8545\n",
      "Epoch 51/100\n",
      "24420/24420 - 2s - loss: 0.3070 - acc: 0.8558\n",
      "Epoch 52/100\n",
      "24420/24420 - 2s - loss: 0.3069 - acc: 0.8556\n",
      "Epoch 53/100\n",
      "24420/24420 - 2s - loss: 0.3069 - acc: 0.8549\n",
      "Epoch 54/100\n",
      "24420/24420 - 2s - loss: 0.3068 - acc: 0.8560\n",
      "Epoch 55/100\n",
      "24420/24420 - 2s - loss: 0.3070 - acc: 0.8552\n",
      "Epoch 56/100\n",
      "24420/24420 - 2s - loss: 0.3069 - acc: 0.8565\n",
      "Epoch 57/100\n",
      "24420/24420 - 2s - loss: 0.3068 - acc: 0.8547\n",
      "Epoch 58/100\n",
      "24420/24420 - 2s - loss: 0.3068 - acc: 0.8538\n",
      "Epoch 59/100\n",
      "24420/24420 - 2s - loss: 0.3067 - acc: 0.8554\n",
      "Epoch 60/100\n",
      "24420/24420 - 2s - loss: 0.3066 - acc: 0.8555\n",
      "Epoch 61/100\n",
      "24420/24420 - 2s - loss: 0.3067 - acc: 0.8555\n",
      "Epoch 62/100\n",
      "24420/24420 - 2s - loss: 0.3065 - acc: 0.8558\n",
      "Epoch 63/100\n",
      "24420/24420 - 2s - loss: 0.3064 - acc: 0.8553\n",
      "Epoch 64/100\n",
      "24420/24420 - 2s - loss: 0.3066 - acc: 0.8551\n",
      "Epoch 65/100\n",
      "24420/24420 - 2s - loss: 0.3064 - acc: 0.8557\n",
      "Epoch 66/100\n",
      "24420/24420 - 2s - loss: 0.3063 - acc: 0.8566\n",
      "Epoch 67/100\n",
      "24420/24420 - 2s - loss: 0.3062 - acc: 0.8559\n",
      "Epoch 68/100\n",
      "24420/24420 - 2s - loss: 0.3062 - acc: 0.8552\n",
      "Epoch 69/100\n",
      "24420/24420 - 2s - loss: 0.3062 - acc: 0.8557\n",
      "Epoch 70/100\n",
      "24420/24420 - 2s - loss: 0.3061 - acc: 0.8550\n",
      "Epoch 71/100\n",
      "24420/24420 - 2s - loss: 0.3061 - acc: 0.8549\n",
      "Epoch 72/100\n",
      "24420/24420 - 2s - loss: 0.3062 - acc: 0.8552\n",
      "Epoch 73/100\n",
      "24420/24420 - 2s - loss: 0.3060 - acc: 0.8553\n",
      "Epoch 74/100\n",
      "24420/24420 - 2s - loss: 0.3062 - acc: 0.8546\n",
      "Epoch 75/100\n",
      "24420/24420 - 2s - loss: 0.3061 - acc: 0.8545\n",
      "Epoch 76/100\n",
      "24420/24420 - 2s - loss: 0.3060 - acc: 0.8552\n",
      "Epoch 77/100\n",
      "24420/24420 - 2s - loss: 0.3059 - acc: 0.8557\n",
      "Epoch 78/100\n",
      "24420/24420 - 2s - loss: 0.3058 - acc: 0.8547\n",
      "Epoch 79/100\n",
      "24420/24420 - 2s - loss: 0.3059 - acc: 0.8554\n",
      "Epoch 80/100\n",
      "24420/24420 - 2s - loss: 0.3058 - acc: 0.8554\n",
      "Epoch 81/100\n",
      "24420/24420 - 2s - loss: 0.3057 - acc: 0.8557\n",
      "Epoch 82/100\n",
      "24420/24420 - 2s - loss: 0.3057 - acc: 0.8542\n",
      "Epoch 83/100\n",
      "24420/24420 - 2s - loss: 0.3057 - acc: 0.8549\n",
      "Epoch 84/100\n",
      "24420/24420 - 2s - loss: 0.3057 - acc: 0.8556\n",
      "Epoch 85/100\n",
      "24420/24420 - 2s - loss: 0.3058 - acc: 0.8551\n",
      "Epoch 86/100\n",
      "24420/24420 - 2s - loss: 0.3055 - acc: 0.8552\n",
      "Epoch 87/100\n",
      "24420/24420 - 2s - loss: 0.3054 - acc: 0.8562\n",
      "Epoch 88/100\n",
      "24420/24420 - 2s - loss: 0.3056 - acc: 0.8558\n",
      "Epoch 89/100\n",
      "24420/24420 - 2s - loss: 0.3052 - acc: 0.8560\n",
      "Epoch 90/100\n",
      "24420/24420 - 2s - loss: 0.3054 - acc: 0.8564\n",
      "Epoch 91/100\n",
      "24420/24420 - 2s - loss: 0.3053 - acc: 0.8562\n",
      "Epoch 92/100\n",
      "24420/24420 - 2s - loss: 0.3052 - acc: 0.8563\n",
      "Epoch 93/100\n",
      "24420/24420 - 2s - loss: 0.3052 - acc: 0.8572\n",
      "Epoch 94/100\n",
      "24420/24420 - 2s - loss: 0.3052 - acc: 0.8562\n",
      "Epoch 95/100\n",
      "24420/24420 - 2s - loss: 0.3050 - acc: 0.8560\n",
      "Epoch 96/100\n",
      "24420/24420 - 2s - loss: 0.3049 - acc: 0.8563\n",
      "Epoch 97/100\n",
      "24420/24420 - 2s - loss: 0.3047 - acc: 0.8570\n",
      "Epoch 98/100\n",
      "24420/24420 - 2s - loss: 0.3049 - acc: 0.8559\n",
      "Epoch 99/100\n",
      "24420/24420 - 2s - loss: 0.3046 - acc: 0.8561\n",
      "Epoch 100/100\n",
      "24420/24420 - 2s - loss: 0.3047 - acc: 0.8566\n"
     ]
    },
    {
     "data": {
      "text/plain": [
       "<tensorflow.python.keras.callbacks.History at 0x2a2ea2240f0>"
      ]
     },
     "execution_count": 41,
     "metadata": {},
     "output_type": "execute_result"
    }
   ],
   "source": [
    "# Fit (train) the model\n",
    "model.fit(\n",
    "    X_train_scaled,\n",
    "    y_train_categorical,\n",
    "    epochs=100,\n",
    "    shuffle=True,\n",
    "    verbose=2\n",
    ")"
   ]
  },
  {
   "cell_type": "code",
   "execution_count": 42,
   "metadata": {
    "scrolled": true
   },
   "outputs": [
    {
     "name": "stdout",
     "output_type": "stream",
     "text": [
      "8141/8141 - 0s - loss: 0.3107 - acc: 0.8565\n",
      "Loss: 0.3106808149760426, Accuracy: 0.8565286993980408\n"
     ]
    }
   ],
   "source": [
    "# Evaluate the model using the testing data\n",
    "model_loss, model_accuracy = model.evaluate(\n",
    "    X_test_scaled, y_test_categorical, verbose=2)\n",
    "print(f\"Loss: {model_loss}, Accuracy: {model_accuracy}\")"
   ]
  },
  {
   "cell_type": "markdown",
   "metadata": {},
   "source": [
    "# End Sofanit Code"
   ]
  },
  {
   "cell_type": "markdown",
   "metadata": {},
   "source": [
    "# ------------------------------"
   ]
  },
  {
   "cell_type": "markdown",
   "metadata": {},
   "source": [
    "## Correlation Matrix"
   ]
  },
  {
   "cell_type": "code",
   "execution_count": null,
   "metadata": {},
   "outputs": [],
   "source": []
  },
  {
   "cell_type": "code",
   "execution_count": null,
   "metadata": {},
   "outputs": [],
   "source": []
  }
 ],
 "metadata": {
  "kernelspec": {
   "display_name": "Python 3",
   "language": "python",
   "name": "python3"
  },
  "language_info": {
   "codemirror_mode": {
    "name": "ipython",
    "version": 3
   },
   "file_extension": ".py",
   "mimetype": "text/x-python",
   "name": "python",
   "nbconvert_exporter": "python",
   "pygments_lexer": "ipython3",
   "version": "3.6.10"
  }
 },
 "nbformat": 4,
 "nbformat_minor": 2
}
